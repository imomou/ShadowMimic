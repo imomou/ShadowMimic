{
 "cells": [
  {
   "cell_type": "code",
   "execution_count": 72,
   "metadata": {},
   "outputs": [],
   "source": [
    "%matplotlib inline\n",
    "%reload_ext autoreload\n",
    "%autoreload 2"
   ]
  },
  {
   "cell_type": "code",
   "execution_count": 9,
   "metadata": {},
   "outputs": [],
   "source": [
    "from fastai.structured import *\n",
    "from fastai.column_data import *\n",
    "import tensorflow as tf\n",
    "\n",
    "import keras\n",
    "from keras import metrics\n",
    "from keras import regularizers\n",
    "from keras.models import Sequential\n",
    "from keras.layers import Dense, Dropout, Flatten, Activation\n",
    "from keras.layers import Conv2D, MaxPooling2D\n",
    "from keras.optimizers import Adam, RMSprop\n",
    "from keras.callbacks import TensorBoard, EarlyStopping, ModelCheckpoint\n",
    "from keras.utils import plot_model\n",
    "from keras.models import load_model\n",
    "from IPython.display import display\n",
    "\n",
    "from sklearn.ensemble import RandomForestRegressor, RandomForestClassifier\n",
    "from sklearn import metrics\n"
   ]
  },
  {
   "cell_type": "code",
   "execution_count": 10,
   "metadata": {},
   "outputs": [],
   "source": [
    "DATAPATH='/home/ubuntu/ShadowMimic/details1.csv'"
   ]
  },
  {
   "cell_type": "code",
   "execution_count": 11,
   "metadata": {},
   "outputs": [],
   "source": [
    "data = pd.read_csv(DATAPATH, delimiter=\",\")\n",
    "\n",
    "x = data[\"StartTime\"].values\n",
    "y = data[\"CPUAverage\"].values"
   ]
  },
  {
   "cell_type": "code",
   "execution_count": 12,
   "metadata": {},
   "outputs": [
    {
     "data": {
      "image/png": "[encoded data removed]",
      "text/plain": [
       "<Figure size 432x288 with 1 Axes>"
      ]
     },
     "metadata": {},
     "output_type": "display_data"
    }
   ],
   "source": [
    "plt.scatter(x,y)\n",
    "plt.show()"
   ]
  },
  {
   "cell_type": "code",
   "execution_count": 13,
   "metadata": {},
   "outputs": [],
   "source": [
    "def display_all(df):\n",
    "    with pd.option_context(\"display.max_rows\", 1000, \"display.max_columns\", 1000): \n",
    "        display(df)"
   ]
  },
  {
   "cell_type": "code",
   "execution_count": 32,
   "metadata": {},
   "outputs": [
    {
     "data": {
      "text/html": [
       "<div>\n",
       "<style scoped>\n",
       "    .dataframe tbody tr th:only-of-type {\n",
       "        vertical-align: middle;\n",
       "    }\n",
       "\n",
       "    .dataframe tbody tr th {\n",
       "        vertical-align: top;\n",
       "    }\n",
       "\n",
       "    .dataframe thead th {\n",
       "        text-align: right;\n",
       "    }\n",
       "</style>\n",
       "<table border=\"1\" class=\"dataframe\">\n",
       "  <thead>\n",
       "    <tr style=\"text-align: right;\">\n",
       "      <th></th>\n",
       "      <th>StartTime</th>\n",
       "      <th>ServiceName</th>\n",
       "      <th>AllocatedCPU</th>\n",
       "      <th>HealthyHosts</th>\n",
       "      <th>CPUAverage</th>\n",
       "    </tr>\n",
       "  </thead>\n",
       "  <tbody>\n",
       "    <tr>\n",
       "      <th>0</th>\n",
       "      <td>1535270460</td>\n",
       "      <td>ServiceA</td>\n",
       "      <td>1000</td>\n",
       "      <td>1</td>\n",
       "      <td>0.02</td>\n",
       "    </tr>\n",
       "    <tr>\n",
       "      <th>1</th>\n",
       "      <td>1535273640</td>\n",
       "      <td>ServiceA</td>\n",
       "      <td>1000</td>\n",
       "      <td>1</td>\n",
       "      <td>0.02</td>\n",
       "    </tr>\n",
       "    <tr>\n",
       "      <th>2</th>\n",
       "      <td>1535276820</td>\n",
       "      <td>ServiceA</td>\n",
       "      <td>1000</td>\n",
       "      <td>1</td>\n",
       "      <td>0.02</td>\n",
       "    </tr>\n",
       "    <tr>\n",
       "      <th>3</th>\n",
       "      <td>1535280000</td>\n",
       "      <td>ServiceA</td>\n",
       "      <td>1000</td>\n",
       "      <td>1</td>\n",
       "      <td>0.02</td>\n",
       "    </tr>\n",
       "    <tr>\n",
       "      <th>4</th>\n",
       "      <td>1535346780</td>\n",
       "      <td>ServiceA</td>\n",
       "      <td>1000</td>\n",
       "      <td>1</td>\n",
       "      <td>0.02</td>\n",
       "    </tr>\n",
       "  </tbody>\n",
       "</table>\n",
       "</div>"
      ],
      "text/plain": [
       "    StartTime ServiceName  AllocatedCPU  HealthyHosts  CPUAverage\n",
       "0  1535270460    ServiceA          1000             1        0.02\n",
       "1  1535273640    ServiceA          1000             1        0.02\n",
       "2  1535276820    ServiceA          1000             1        0.02\n",
       "3  1535280000    ServiceA          1000             1        0.02\n",
       "4  1535346780    ServiceA          1000             1        0.02"
      ]
     },
     "metadata": {},
     "output_type": "display_data"
    }
   ],
   "source": [
    "display_all(data.head())"
   ]
  },
  {
   "cell_type": "code",
   "execution_count": 33,
   "metadata": {},
   "outputs": [
    {
     "data": {
      "text/html": [
       "<div>\n",
       "<style scoped>\n",
       "    .dataframe tbody tr th:only-of-type {\n",
       "        vertical-align: middle;\n",
       "    }\n",
       "\n",
       "    .dataframe tbody tr th {\n",
       "        vertical-align: top;\n",
       "    }\n",
       "\n",
       "    .dataframe thead th {\n",
       "        text-align: right;\n",
       "    }\n",
       "</style>\n",
       "<table border=\"1\" class=\"dataframe\">\n",
       "  <thead>\n",
       "    <tr style=\"text-align: right;\">\n",
       "      <th></th>\n",
       "      <th>StartTime</th>\n",
       "      <th>ServiceName</th>\n",
       "      <th>AllocatedCPU</th>\n",
       "      <th>HealthyHosts</th>\n",
       "      <th>CPUAverage</th>\n",
       "    </tr>\n",
       "  </thead>\n",
       "  <tbody>\n",
       "    <tr>\n",
       "      <th>41740</th>\n",
       "      <td>1535345040</td>\n",
       "      <td>Prod-LoadBalancers-PublicEcsService-122OZOVI0LMZ5</td>\n",
       "      <td>25</td>\n",
       "      <td>2</td>\n",
       "      <td>0.04</td>\n",
       "    </tr>\n",
       "    <tr>\n",
       "      <th>41741</th>\n",
       "      <td>1535304660</td>\n",
       "      <td>Prod-LoadBalancers-PublicEcsService-122OZOVI0LMZ5</td>\n",
       "      <td>25</td>\n",
       "      <td>2</td>\n",
       "      <td>0.03</td>\n",
       "    </tr>\n",
       "    <tr>\n",
       "      <th>41742</th>\n",
       "      <td>1535291940</td>\n",
       "      <td>Prod-LoadBalancers-PublicEcsService-122OZOVI0LMZ5</td>\n",
       "      <td>25</td>\n",
       "      <td>2</td>\n",
       "      <td>0.03</td>\n",
       "    </tr>\n",
       "    <tr>\n",
       "      <th>41743</th>\n",
       "      <td>1535272800</td>\n",
       "      <td>Prod-LoadBalancers-PublicEcsService-122OZOVI0LMZ5</td>\n",
       "      <td>25</td>\n",
       "      <td>2</td>\n",
       "      <td>0.03</td>\n",
       "    </tr>\n",
       "    <tr>\n",
       "      <th>41744</th>\n",
       "      <td>1535310960</td>\n",
       "      <td>Prod-LoadBalancers-PublicEcsService-122OZOVI0LMZ5</td>\n",
       "      <td>25</td>\n",
       "      <td>2</td>\n",
       "      <td>0.04</td>\n",
       "    </tr>\n",
       "  </tbody>\n",
       "</table>\n",
       "</div>"
      ],
      "text/plain": [
       "        StartTime                                        ServiceName  \\\n",
       "41740  1535345040  Prod-LoadBalancers-PublicEcsService-122OZOVI0LMZ5   \n",
       "41741  1535304660  Prod-LoadBalancers-PublicEcsService-122OZOVI0LMZ5   \n",
       "41742  1535291940  Prod-LoadBalancers-PublicEcsService-122OZOVI0LMZ5   \n",
       "41743  1535272800  Prod-LoadBalancers-PublicEcsService-122OZOVI0LMZ5   \n",
       "41744  1535310960  Prod-LoadBalancers-PublicEcsService-122OZOVI0LMZ5   \n",
       "\n",
       "       AllocatedCPU  HealthyHosts  CPUAverage  \n",
       "41740            25             2        0.04  \n",
       "41741            25             2        0.03  \n",
       "41742            25             2        0.03  \n",
       "41743            25             2        0.03  \n",
       "41744            25             2        0.04  "
      ]
     },
     "metadata": {},
     "output_type": "display_data"
    }
   ],
   "source": [
    "display_all(data.tail())"
   ]
  },
  {
   "cell_type": "code",
   "execution_count": 16,
   "metadata": {},
   "outputs": [
    {
     "data": {
      "text/html": [
       "<div>\n",
       "<style scoped>\n",
       "    .dataframe tbody tr th:only-of-type {\n",
       "        vertical-align: middle;\n",
       "    }\n",
       "\n",
       "    .dataframe tbody tr th {\n",
       "        vertical-align: top;\n",
       "    }\n",
       "\n",
       "    .dataframe thead th {\n",
       "        text-align: right;\n",
       "    }\n",
       "</style>\n",
       "<table border=\"1\" class=\"dataframe\">\n",
       "  <thead>\n",
       "    <tr style=\"text-align: right;\">\n",
       "      <th></th>\n",
       "      <th>count</th>\n",
       "      <th>unique</th>\n",
       "      <th>top</th>\n",
       "      <th>freq</th>\n",
       "      <th>mean</th>\n",
       "      <th>std</th>\n",
       "      <th>min</th>\n",
       "      <th>25%</th>\n",
       "      <th>50%</th>\n",
       "      <th>75%</th>\n",
       "      <th>max</th>\n",
       "    </tr>\n",
       "  </thead>\n",
       "  <tbody>\n",
       "    <tr>\n",
       "      <th>StartTime</th>\n",
       "      <td>41745</td>\n",
       "      <td>NaN</td>\n",
       "      <td>NaN</td>\n",
       "      <td>NaN</td>\n",
       "      <td>1.5353e+09</td>\n",
       "      <td>24924.4</td>\n",
       "      <td>1.53526e+09</td>\n",
       "      <td>1.53528e+09</td>\n",
       "      <td>1.5353e+09</td>\n",
       "      <td>1.53533e+09</td>\n",
       "      <td>1.53535e+09</td>\n",
       "    </tr>\n",
       "    <tr>\n",
       "      <th>ServiceName</th>\n",
       "      <td>41745</td>\n",
       "      <td>29</td>\n",
       "      <td>ServiceZ</td>\n",
       "      <td>1440</td>\n",
       "      <td>NaN</td>\n",
       "      <td>NaN</td>\n",
       "      <td>NaN</td>\n",
       "      <td>NaN</td>\n",
       "      <td>NaN</td>\n",
       "      <td>NaN</td>\n",
       "      <td>NaN</td>\n",
       "    </tr>\n",
       "    <tr>\n",
       "      <th>AllocatedCPU</th>\n",
       "      <td>41745</td>\n",
       "      <td>NaN</td>\n",
       "      <td>NaN</td>\n",
       "      <td>NaN</td>\n",
       "      <td>827.785</td>\n",
       "      <td>755.865</td>\n",
       "      <td>25</td>\n",
       "      <td>200</td>\n",
       "      <td>500</td>\n",
       "      <td>1000</td>\n",
       "      <td>3000</td>\n",
       "    </tr>\n",
       "    <tr>\n",
       "      <th>HealthyHosts</th>\n",
       "      <td>41745</td>\n",
       "      <td>NaN</td>\n",
       "      <td>NaN</td>\n",
       "      <td>NaN</td>\n",
       "      <td>1.34212</td>\n",
       "      <td>0.823776</td>\n",
       "      <td>0</td>\n",
       "      <td>1</td>\n",
       "      <td>1</td>\n",
       "      <td>2</td>\n",
       "      <td>6</td>\n",
       "    </tr>\n",
       "    <tr>\n",
       "      <th>CPUAverage</th>\n",
       "      <td>41745</td>\n",
       "      <td>NaN</td>\n",
       "      <td>NaN</td>\n",
       "      <td>NaN</td>\n",
       "      <td>3.04241</td>\n",
       "      <td>9.42797</td>\n",
       "      <td>0</td>\n",
       "      <td>0.01</td>\n",
       "      <td>0.06</td>\n",
       "      <td>0.55</td>\n",
       "      <td>256.23</td>\n",
       "    </tr>\n",
       "  </tbody>\n",
       "</table>\n",
       "</div>"
      ],
      "text/plain": [
       "              count unique       top  freq        mean       std          min  \\\n",
       "StartTime     41745    NaN       NaN   NaN  1.5353e+09   24924.4  1.53526e+09   \n",
       "ServiceName   41745     29  ServiceZ  1440         NaN       NaN          NaN   \n",
       "AllocatedCPU  41745    NaN       NaN   NaN     827.785   755.865           25   \n",
       "HealthyHosts  41745    NaN       NaN   NaN     1.34212  0.823776            0   \n",
       "CPUAverage    41745    NaN       NaN   NaN     3.04241   9.42797            0   \n",
       "\n",
       "                      25%         50%          75%          max  \n",
       "StartTime     1.53528e+09  1.5353e+09  1.53533e+09  1.53535e+09  \n",
       "ServiceName           NaN         NaN          NaN          NaN  \n",
       "AllocatedCPU          200         500         1000         3000  \n",
       "HealthyHosts            1           1            2            6  \n",
       "CPUAverage           0.01        0.06         0.55       256.23  "
      ]
     },
     "metadata": {},
     "output_type": "display_data"
    }
   ],
   "source": [
    "display_all(data.describe(include='all').T)"
   ]
  },
  {
   "cell_type": "code",
   "execution_count": 17,
   "metadata": {},
   "outputs": [],
   "source": [
    "#??RandomForestRegressor"
   ]
  },
  {
   "cell_type": "code",
   "execution_count": 296,
   "metadata": {},
   "outputs": [],
   "source": [
    "##??data.to_feather"
   ]
  },
  {
   "cell_type": "code",
   "execution_count": 19,
   "metadata": {},
   "outputs": [],
   "source": [
    "####temp####\n",
    "data = pd.read_csv(DATAPATH, delimiter=\",\")\n",
    "\n",
    "#this is important\n",
    "train_cats(data)"
   ]
  },
  {
   "cell_type": "code",
   "execution_count": 20,
   "metadata": {},
   "outputs": [
    {
     "data": {
      "text/plain": [
       "Index(['Prod-LoadBalancers-PublicEcsService-122OZOVI0LMZ5', 'Service1',\n",
       "       'Service2', 'ServiceA', 'ServiceB', 'ServiceC', 'ServiceD', 'ServiceE',\n",
       "       'ServiceF', 'ServiceG', 'ServiceH', 'ServiceI', 'ServiceJ', 'ServiceK',\n",
       "       'ServiceL', 'ServiceM', 'ServiceN', 'ServiceO', 'ServiceP', 'ServiceQ',\n",
       "       'ServiceR', 'ServiceS', 'ServiceT', 'ServiceU', 'ServiceV', 'ServiceW',\n",
       "       'ServiceX', 'ServiceY', 'ServiceZ'],\n",
       "      dtype='object')"
      ]
     },
     "execution_count": 20,
     "metadata": {},
     "output_type": "execute_result"
    }
   ],
   "source": [
    "data.ServiceName.cat.categories"
   ]
  },
  {
   "cell_type": "code",
   "execution_count": 21,
   "metadata": {},
   "outputs": [
    {
     "name": "stdout",
     "output_type": "stream",
     "text": [
      "StartTime       0\n",
      "ServiceName     0\n",
      "AllocatedCPU    0\n",
      "HealthyHosts    0\n",
      "CPUAverage      0\n",
      "dtype: int64\n"
     ]
    }
   ],
   "source": [
    "print(data.isnull().sum())"
   ]
  },
  {
   "cell_type": "code",
   "execution_count": 297,
   "metadata": {},
   "outputs": [
    {
     "data": {
      "text/plain": [
       "AllocatedCPU    0.0\n",
       "CPUAverage      0.0\n",
       "HealthyHosts    0.0\n",
       "ServiceName     0.0\n",
       "StartTime       0.0\n",
       "dtype: float64"
      ]
     },
     "metadata": {},
     "output_type": "display_data"
    }
   ],
   "source": [
    "#??os\n",
    "#??proc_df  \n",
    "#display_all(data.isnull().sum().sort_index()/len(data))"
   ]
  },
  {
   "cell_type": "code",
   "execution_count": 22,
   "metadata": {},
   "outputs": [],
   "source": [
    "os.makedirs('tmp', exist_ok=True)\n",
    "data.to_feather('tmp/sams')"
   ]
  },
  {
   "cell_type": "code",
   "execution_count": 23,
   "metadata": {},
   "outputs": [
    {
     "name": "stderr",
     "output_type": "stream",
     "text": [
      "/home/ubuntu/anaconda3/lib/python3.6/site-packages/pandas/io/feather_format.py:112: FutureWarning: `nthreads` argument is deprecated, pass `use_threads` instead\n",
      "  return feather.read_dataframe(path, nthreads=nthreads)\n"
     ]
    }
   ],
   "source": [
    "#??proc_df\n",
    "#shouldnt need to do this, but bah\n",
    "data = pd.read_feather('tmp/sams')\n",
    "#display_all(data)"
   ]
  },
  {
   "cell_type": "code",
   "execution_count": 24,
   "metadata": {},
   "outputs": [],
   "source": [
    "df, y, nas = proc_df(data, 'CPUAverage')"
   ]
  },
  {
   "cell_type": "code",
   "execution_count": 25,
   "metadata": {},
   "outputs": [
    {
     "data": {
      "text/plain": [
       "Index(['StartTime', 'ServiceName', 'AllocatedCPU', 'HealthyHosts'], dtype='object')"
      ]
     },
     "execution_count": 25,
     "metadata": {},
     "output_type": "execute_result"
    }
   ],
   "source": [
    "m = RandomForestRegressor(n_jobs=-1)\n",
    "m.fit(df,y)\n",
    "m.score(df,y)\n",
    "\n",
    "df.columns"
   ]
  },
  {
   "cell_type": "code",
   "execution_count": 26,
   "metadata": {},
   "outputs": [
    {
     "data": {
      "text/plain": [
       "((29745, 4), (29745,), (12000, 4))"
      ]
     },
     "execution_count": 26,
     "metadata": {},
     "output_type": "execute_result"
    }
   ],
   "source": [
    "def split_vals(a,n): return a[:n].copy(), a[n:].copy()\n",
    "\n",
    "#training sset\n",
    "n_valid = 12000  # same as Kaggle's test set size\n",
    "n_trn = len(df)-n_valid\n",
    "raw_train, raw_valid = split_vals(data, n_trn)\n",
    "X_train, X_valid = split_vals(df, n_trn)\n",
    "y_train, y_valid = split_vals(y, n_trn)\n",
    "\n",
    "X_train.shape, y_train.shape, X_valid.shape"
   ]
  },
  {
   "cell_type": "code",
   "execution_count": 27,
   "metadata": {},
   "outputs": [],
   "source": [
    "#def rmse(x,y): return math.sqrt(((x-y)**2).mean())\n",
    "\n",
    "#def print_score(m):\n",
    "#    res = [rmse(m.predict(X_train), y_train), rmse(m.predict(X_valid), y_valid),\n",
    "#                m.score(X_train, y_train), m.score(X_valid, y_valid)]\n",
    "#    if hasattr(m, 'oob_score_'): res.append(m.oob_score_)\n",
    "#    print(res)\n",
    "    \n",
    "def print_score(m):\n",
    "    res = [m.predict(X_train), m.predict(X_valid),\n",
    "                m.score(X_train, y_train), m.score(X_valid, y_valid)]\n",
    "    if hasattr(m, 'oob_score_'): res.append(m.oob_score_)\n",
    "    print(res)"
   ]
  },
  {
   "cell_type": "code",
   "execution_count": 28,
   "metadata": {},
   "outputs": [
    {
     "name": "stdout",
     "output_type": "stream",
     "text": [
      "CPU times: user 468 ms, sys: 8 ms, total: 476 ms\n",
      "Wall time: 212 ms\n",
      "[array([0.02   , 0.02   , 0.02   , 0.2    , 0.02   , 0.02   , 0.02533, 0.052  , 0.021  , 0.02   , 0.0215 ,\n",
      "       0.02   , 0.02   , 0.02483, 0.02133, 0.24403, 0.02   , 0.02   , 0.02   , 0.02   , ..., 0.     ,\n",
      "       0.     , 0.     , 0.     , 0.     , 0.     , 0.     , 0.     , 0.     , 0.     , 0.     , 0.     ,\n",
      "       0.     , 0.     , 0.     , 0.     , 0.     , 0.     , 0.     , 0.     ]), array([0.     , 0.     , 0.     , 0.     , 0.     , 0.     , 0.     , 0.     , 0.     , 0.     , 0.     ,\n",
      "       0.     , 0.     , 0.     , 0.     , 0.     , 0.     , 0.     , 0.     , 0.     , ..., 0.13147,\n",
      "       0.12483, 0.097  , 0.12942, 0.13467, 0.11667, 0.09867, 0.13443, 0.126  , 0.12567, 0.1148 , 0.1019 ,\n",
      "       0.117  , 0.10773, 0.1074 , 0.11983, 0.105  , 0.13517, 0.11858, 0.08423]), 0.9303245448166692, -0.47281122129882336]\n"
     ]
    }
   ],
   "source": [
    "m = RandomForestRegressor(n_jobs=-1)\n",
    "%time m.fit(X_train, y_train)\n",
    "print_score(m)"
   ]
  },
  {
   "cell_type": "code",
   "execution_count": 29,
   "metadata": {},
   "outputs": [],
   "source": [
    "df_trn, y_trn, nas = proc_df(data, 'CPUAverage', subset=30000, na_dict=nas)\n",
    "X_train, _ = split_vals(df_trn, 20000)\n",
    "y_train, _ = split_vals(y_trn, 20000)"
   ]
  },
  {
   "cell_type": "code",
   "execution_count": 30,
   "metadata": {},
   "outputs": [
    {
     "name": "stdout",
     "output_type": "stream",
     "text": [
      "CPU times: user 308 ms, sys: 8 ms, total: 316 ms\n",
      "Wall time: 112 ms\n",
      "[array([0.02   , 0.02   , 0.02   , 0.02   , 0.02485, 0.02   , 0.021  , 0.021  , 0.02   , 0.02   , 0.02   ,\n",
      "       0.20017, 0.02   , 0.044  , 0.02167, 0.021  , 0.021  , 0.02   , 0.02   , 0.02   , ..., 0.022  ,\n",
      "       0.04   , 0.091  , 0.031  , 0.03   , 0.041  , 0.043  , 0.038  , 0.047  , 0.035  , 0.14   , 0.03247,\n",
      "       0.035  , 0.04183, 0.042  , 0.039  , 0.022  , 0.03767, 0.03465, 0.04   ]), array([0.     , 0.     , 0.     , 0.     , 0.     , 0.     , 0.     , 0.     , 0.     , 0.     , 0.     ,\n",
      "       0.     , 0.     , 0.     , 0.     , 0.     , 0.     , 0.     , 0.     , 0.     , ..., 0.12498,\n",
      "       0.10508, 0.08533, 0.121  , 0.12517, 0.11   , 0.098  , 0.14613, 0.1199 , 0.1045 , 0.10545, 0.094  ,\n",
      "       0.11   , 0.09183, 0.09933, 0.10117, 0.094  , 0.11842, 0.1103 , 0.0717 ]), 0.9367611864843942, -0.3181174380721381]\n"
     ]
    }
   ],
   "source": [
    "m = RandomForestRegressor(n_jobs=-1)\n",
    "%time m.fit(X_train, y_train)\n",
    "print_score(m)"
   ]
  },
  {
   "cell_type": "code",
   "execution_count": 333,
   "metadata": {},
   "outputs": [
    {
     "name": "stdout",
     "output_type": "stream",
     "text": [
      "[array([0.07618, 0.07618, 0.07618, 0.07618, 0.07618, 0.07618, 0.07618, 0.07618, 0.07618, 0.07618, 0.07618,\n",
      "       0.07618, 0.07618, 0.07618, 0.07618, 0.07618, 0.07618, 0.07618, 0.07618, 0.07618, ..., 0.07618,\n",
      "       0.07618, 0.07618, 0.07618, 0.07618, 0.07618, 0.07618, 0.07618, 0.07618, 0.07618, 0.07618, 0.07618,\n",
      "       0.07618, 0.07618, 0.07618, 0.07618, 0.07618, 0.07618, 0.07618, 0.07618]), array([0.07618, 0.07618, 0.07618, 0.07618, 0.07618, 0.07618, 0.07618, 0.07618, 0.07618, 0.07618, 0.07618,\n",
      "       0.07618, 0.07618, 0.07618, 0.07618, 0.07618, 0.07618, 0.07618, 0.07618, 0.07618, ..., 0.07618,\n",
      "       0.07618, 0.07618, 0.07618, 0.07618, 0.07618, 0.07618, 0.07618, 0.07618, 0.07618, 0.07618, 0.07618,\n",
      "       0.07618, 0.07618, 0.07618, 0.07618, 0.07618, 0.07618, 0.07618, 0.07618]), 0.7733606614726057, -0.01220050398495065]\n"
     ]
    }
   ],
   "source": [
    "m = RandomForestRegressor(n_estimators=1, max_depth=3, bootstrap=False, n_jobs=-1)\n",
    "m.fit(X_train, y_train)\n",
    "print_score(m)"
   ]
  },
  {
   "cell_type": "code",
   "execution_count": 334,
   "metadata": {},
   "outputs": [
    {
     "data": {
      "image/svg+xml": [
       "<?xml version=\"1.0\" encoding=\"UTF-8\" standalone=\"no\"?>\n",
       "<!DOCTYPE svg PUBLIC \"-//W3C//DTD SVG 1.1//EN\"\n",
       " \"http://www.w3.org/Graphics/SVG/1.1/DTD/svg11.dtd\">\n",
       "<!-- Generated by graphviz version 2.38.0 (20140413.2041)\n",
       " -->\n",
       "<!-- Title: Tree Pages: 1 -->\n",
       "<svg width=\"720pt\" height=\"434pt\"\n",
       " viewBox=\"0.00 0.00 720.00 434.49\" xmlns=\"http://www.w3.org/2000/svg\" xmlns:xlink=\"http://www.w3.org/1999/xlink\">\n",
       "<g id=\"graph0\" class=\"graph\" transform=\"scale(0.778659 0.778659) rotate(0) translate(4 554)\">\n",
       "<title>Tree</title>\n",
       "<polygon fill=\"white\" stroke=\"none\" points=\"-4,4 -4,-554 920.667,-554 920.667,4 -4,4\"/>\n",
       "<!-- 0 -->\n",
       "<g id=\"node1\" class=\"node\"><title>0</title>\n",
       "<polygon fill=\"#e58139\" fill-opacity=\"0.074510\" stroke=\"black\" points=\"177.167,-308.5 28.1667,-308.5 28.1667,-240.5 177.167,-240.5 177.167,-308.5\"/>\n",
       "<text text-anchor=\"start\" x=\"36.1667\" y=\"-293.3\" font-family=\"Times,serif\" font-size=\"14.00\">AllocatedCPU ≤ 1750.0</text>\n",
       "<text text-anchor=\"start\" x=\"61.1667\" y=\"-278.3\" font-family=\"Times,serif\" font-size=\"14.00\">mse = 121.779</text>\n",
       "<text text-anchor=\"start\" x=\"55.6667\" y=\"-263.3\" font-family=\"Times,serif\" font-size=\"14.00\">samples = 20000</text>\n",
       "<text text-anchor=\"start\" x=\"64.6667\" y=\"-248.3\" font-family=\"Times,serif\" font-size=\"14.00\">value = 4.018</text>\n",
       "</g>\n",
       "<!-- 1 -->\n",
       "<g id=\"node2\" class=\"node\"><title>1</title>\n",
       "<polygon fill=\"#e58139\" fill-opacity=\"0.007843\" stroke=\"black\" points=\"408.167,-361.5 285.167,-361.5 285.167,-293.5 408.167,-293.5 408.167,-361.5\"/>\n",
       "<text text-anchor=\"start\" x=\"293.167\" y=\"-346.3\" font-family=\"Times,serif\" font-size=\"14.00\">ServiceName ≤ 1.5</text>\n",
       "<text text-anchor=\"start\" x=\"308.667\" y=\"-331.3\" font-family=\"Times,serif\" font-size=\"14.00\">mse = 13.814</text>\n",
       "<text text-anchor=\"start\" x=\"299.667\" y=\"-316.3\" font-family=\"Times,serif\" font-size=\"14.00\">samples = 14809</text>\n",
       "<text text-anchor=\"start\" x=\"308.667\" y=\"-301.3\" font-family=\"Times,serif\" font-size=\"14.00\">value = 0.458</text>\n",
       "</g>\n",
       "<!-- 0&#45;&gt;1 -->\n",
       "<g id=\"edge1\" class=\"edge\"><title>0&#45;&gt;1</title>\n",
       "<path fill=\"none\" stroke=\"black\" d=\"M177.26,-290.618C208.379,-297.433 244.466,-305.336 275.235,-312.075\"/>\n",
       "<polygon fill=\"black\" stroke=\"black\" points=\"274.507,-315.498 285.024,-314.219 276.005,-308.66 274.507,-315.498\"/>\n",
       "<text text-anchor=\"middle\" x=\"263.974\" y=\"-324.005\" font-family=\"Times,serif\" font-size=\"14.00\">True</text>\n",
       "</g>\n",
       "<!-- 8 -->\n",
       "<g id=\"node9\" class=\"node\"><title>8</title>\n",
       "<polygon fill=\"#e58139\" fill-opacity=\"0.270588\" stroke=\"black\" points=\"411.667,-255.5 281.667,-255.5 281.667,-187.5 411.667,-187.5 411.667,-255.5\"/>\n",
       "<text text-anchor=\"start\" x=\"289.667\" y=\"-240.3\" font-family=\"Times,serif\" font-size=\"14.00\">ServiceName ≤ 19.5</text>\n",
       "<text text-anchor=\"start\" x=\"305.167\" y=\"-225.3\" font-family=\"Times,serif\" font-size=\"14.00\">mse = 290.437</text>\n",
       "<text text-anchor=\"start\" x=\"302.667\" y=\"-210.3\" font-family=\"Times,serif\" font-size=\"14.00\">samples = 5191</text>\n",
       "<text text-anchor=\"start\" x=\"305.167\" y=\"-195.3\" font-family=\"Times,serif\" font-size=\"14.00\">value = 14.176</text>\n",
       "</g>\n",
       "<!-- 0&#45;&gt;8 -->\n",
       "<g id=\"edge8\" class=\"edge\"><title>0&#45;&gt;8</title>\n",
       "<path fill=\"none\" stroke=\"black\" d=\"M177.26,-258.382C207.12,-251.843 241.554,-244.301 271.474,-237.749\"/>\n",
       "<polygon fill=\"black\" stroke=\"black\" points=\"272.415,-241.126 281.435,-235.567 270.918,-234.288 272.415,-241.126\"/>\n",
       "<text text-anchor=\"middle\" x=\"260.385\" y=\"-218.381\" font-family=\"Times,serif\" font-size=\"14.00\">False</text>\n",
       "</g>\n",
       "<!-- 2 -->\n",
       "<g id=\"node3\" class=\"node\"><title>2</title>\n",
       "<polygon fill=\"#e58139\" fill-opacity=\"0.054902\" stroke=\"black\" points=\"683.167,-486.5 518.167,-486.5 518.167,-418.5 683.167,-418.5 683.167,-486.5\"/>\n",
       "<text text-anchor=\"start\" x=\"526.167\" y=\"-471.3\" font-family=\"Times,serif\" font-size=\"14.00\">StartTime ≤ 1535273600.0</text>\n",
       "<text text-anchor=\"start\" x=\"559.167\" y=\"-456.3\" font-family=\"Times,serif\" font-size=\"14.00\">mse = 103.194</text>\n",
       "<text text-anchor=\"start\" x=\"556.667\" y=\"-441.3\" font-family=\"Times,serif\" font-size=\"14.00\">samples = 1029</text>\n",
       "<text text-anchor=\"start\" x=\"562.667\" y=\"-426.3\" font-family=\"Times,serif\" font-size=\"14.00\">value = 2.936</text>\n",
       "</g>\n",
       "<!-- 1&#45;&gt;2 -->\n",
       "<g id=\"edge2\" class=\"edge\"><title>1&#45;&gt;2</title>\n",
       "<path fill=\"none\" stroke=\"black\" d=\"M408.348,-357.6C442.45,-374.515 485.375,-395.808 521.921,-413.936\"/>\n",
       "<polygon fill=\"black\" stroke=\"black\" points=\"520.552,-417.163 531.065,-418.472 523.662,-410.892 520.552,-417.163\"/>\n",
       "</g>\n",
       "<!-- 5 -->\n",
       "<g id=\"node6\" class=\"node\"><title>5</title>\n",
       "<polygon fill=\"#e58139\" fill-opacity=\"0.003922\" stroke=\"black\" points=\"665.667,-361.5 535.667,-361.5 535.667,-293.5 665.667,-293.5 665.667,-361.5\"/>\n",
       "<text text-anchor=\"start\" x=\"543.667\" y=\"-346.3\" font-family=\"Times,serif\" font-size=\"14.00\">ServiceName ≤ 20.5</text>\n",
       "<text text-anchor=\"start\" x=\"565.667\" y=\"-331.3\" font-family=\"Times,serif\" font-size=\"14.00\">mse = 6.647</text>\n",
       "<text text-anchor=\"start\" x=\"553.667\" y=\"-316.3\" font-family=\"Times,serif\" font-size=\"14.00\">samples = 13780</text>\n",
       "<text text-anchor=\"start\" x=\"562.667\" y=\"-301.3\" font-family=\"Times,serif\" font-size=\"14.00\">value = 0.273</text>\n",
       "</g>\n",
       "<!-- 1&#45;&gt;5 -->\n",
       "<g id=\"edge5\" class=\"edge\"><title>1&#45;&gt;5</title>\n",
       "<path fill=\"none\" stroke=\"black\" d=\"M408.348,-327.5C443.492,-327.5 488.007,-327.5 525.253,-327.5\"/>\n",
       "<polygon fill=\"black\" stroke=\"black\" points=\"525.552,-331 535.552,-327.5 525.552,-324 525.552,-331\"/>\n",
       "</g>\n",
       "<!-- 3 -->\n",
       "<g id=\"node4\" class=\"node\"><title>3</title>\n",
       "<polygon fill=\"#e58139\" fill-opacity=\"0.031373\" stroke=\"black\" points=\"889.167,-550 792.167,-550 792.167,-497 889.167,-497 889.167,-550\"/>\n",
       "<text text-anchor=\"start\" x=\"802.667\" y=\"-534.8\" font-family=\"Times,serif\" font-size=\"14.00\">mse = 35.603</text>\n",
       "<text text-anchor=\"start\" x=\"800.167\" y=\"-519.8\" font-family=\"Times,serif\" font-size=\"14.00\">samples = 152</text>\n",
       "<text text-anchor=\"start\" x=\"802.667\" y=\"-504.8\" font-family=\"Times,serif\" font-size=\"14.00\">value = 1.715</text>\n",
       "</g>\n",
       "<!-- 2&#45;&gt;3 -->\n",
       "<g id=\"edge3\" class=\"edge\"><title>2&#45;&gt;3</title>\n",
       "<path fill=\"none\" stroke=\"black\" d=\"M683.24,-476.835C715.761,-486.537 752.434,-497.477 782.093,-506.325\"/>\n",
       "<polygon fill=\"black\" stroke=\"black\" points=\"781.283,-509.735 791.867,-509.24 783.285,-503.028 781.283,-509.735\"/>\n",
       "</g>\n",
       "<!-- 4 -->\n",
       "<g id=\"node5\" class=\"node\"><title>4</title>\n",
       "<polygon fill=\"#e58139\" fill-opacity=\"0.058824\" stroke=\"black\" points=\"890.167,-479 791.167,-479 791.167,-426 890.167,-426 890.167,-479\"/>\n",
       "<text text-anchor=\"start\" x=\"799.167\" y=\"-463.8\" font-family=\"Times,serif\" font-size=\"14.00\">mse = 114.605</text>\n",
       "<text text-anchor=\"start\" x=\"800.167\" y=\"-448.8\" font-family=\"Times,serif\" font-size=\"14.00\">samples = 877</text>\n",
       "<text text-anchor=\"start\" x=\"802.667\" y=\"-433.8\" font-family=\"Times,serif\" font-size=\"14.00\">value = 3.148</text>\n",
       "</g>\n",
       "<!-- 2&#45;&gt;4 -->\n",
       "<g id=\"edge4\" class=\"edge\"><title>2&#45;&gt;4</title>\n",
       "<path fill=\"none\" stroke=\"black\" d=\"M683.24,-452.5C715.258,-452.5 751.302,-452.5 780.713,-452.5\"/>\n",
       "<polygon fill=\"black\" stroke=\"black\" points=\"780.823,-456 790.823,-452.5 780.823,-449 780.823,-456\"/>\n",
       "</g>\n",
       "<!-- 6 -->\n",
       "<g id=\"node7\" class=\"node\"><title>6</title>\n",
       "<polygon fill=\"none\" stroke=\"black\" points=\"895.667,-408 785.667,-408 785.667,-355 895.667,-355 895.667,-408\"/>\n",
       "<text text-anchor=\"start\" x=\"805.667\" y=\"-392.8\" font-family=\"Times,serif\" font-size=\"14.00\">mse = 0.435</text>\n",
       "<text text-anchor=\"start\" x=\"793.667\" y=\"-377.8\" font-family=\"Times,serif\" font-size=\"14.00\">samples = 10657</text>\n",
       "<text text-anchor=\"start\" x=\"802.667\" y=\"-362.8\" font-family=\"Times,serif\" font-size=\"14.00\">value = 0.076</text>\n",
       "</g>\n",
       "<!-- 5&#45;&gt;6 -->\n",
       "<g id=\"edge6\" class=\"edge\"><title>5&#45;&gt;6</title>\n",
       "<path fill=\"none\" stroke=\"black\" d=\"M665.759,-342.042C699.844,-349.775 741.625,-359.255 775.692,-366.985\"/>\n",
       "<polygon fill=\"black\" stroke=\"black\" points=\"775.013,-370.42 785.54,-369.219 776.562,-363.593 775.013,-370.42\"/>\n",
       "</g>\n",
       "<!-- 7 -->\n",
       "<g id=\"node8\" class=\"node\"><title>7</title>\n",
       "<polygon fill=\"#e58139\" fill-opacity=\"0.015686\" stroke=\"black\" points=\"892.667,-337 788.667,-337 788.667,-284 892.667,-284 892.667,-337\"/>\n",
       "<text text-anchor=\"start\" x=\"802.667\" y=\"-321.8\" font-family=\"Times,serif\" font-size=\"14.00\">mse = 27.263</text>\n",
       "<text text-anchor=\"start\" x=\"796.667\" y=\"-306.8\" font-family=\"Times,serif\" font-size=\"14.00\">samples = 3123</text>\n",
       "<text text-anchor=\"start\" x=\"802.667\" y=\"-291.8\" font-family=\"Times,serif\" font-size=\"14.00\">value = 0.943</text>\n",
       "</g>\n",
       "<!-- 5&#45;&gt;7 -->\n",
       "<g id=\"edge7\" class=\"edge\"><title>5&#45;&gt;7</title>\n",
       "<path fill=\"none\" stroke=\"black\" d=\"M665.759,-322.922C700.696,-320.427 743.719,-317.353 778.231,-314.888\"/>\n",
       "<polygon fill=\"black\" stroke=\"black\" points=\"778.926,-318.348 788.651,-314.144 778.427,-311.365 778.926,-318.348\"/>\n",
       "</g>\n",
       "<!-- 9 -->\n",
       "<g id=\"node10\" class=\"node\"><title>9</title>\n",
       "<polygon fill=\"#e58139\" fill-opacity=\"0.811765\" stroke=\"black\" points=\"683.167,-255.5 518.167,-255.5 518.167,-187.5 683.167,-187.5 683.167,-255.5\"/>\n",
       "<text text-anchor=\"start\" x=\"526.167\" y=\"-240.3\" font-family=\"Times,serif\" font-size=\"14.00\">StartTime ≤ 1535277568.0</text>\n",
       "<text text-anchor=\"start\" x=\"559.167\" y=\"-225.3\" font-family=\"Times,serif\" font-size=\"14.00\">mse = 146.552</text>\n",
       "<text text-anchor=\"start\" x=\"556.667\" y=\"-210.3\" font-family=\"Times,serif\" font-size=\"14.00\">samples = 1030</text>\n",
       "<text text-anchor=\"start\" x=\"559.167\" y=\"-195.3\" font-family=\"Times,serif\" font-size=\"14.00\">value = 42.573</text>\n",
       "</g>\n",
       "<!-- 8&#45;&gt;9 -->\n",
       "<g id=\"edge9\" class=\"edge\"><title>8&#45;&gt;9</title>\n",
       "<path fill=\"none\" stroke=\"black\" d=\"M411.909,-221.5C440.989,-221.5 475.899,-221.5 507.687,-221.5\"/>\n",
       "<polygon fill=\"black\" stroke=\"black\" points=\"507.886,-225 517.886,-221.5 507.886,-218 507.886,-225\"/>\n",
       "</g>\n",
       "<!-- 12 -->\n",
       "<g id=\"node13\" class=\"node\"><title>12</title>\n",
       "<polygon fill=\"#e58139\" fill-opacity=\"0.133333\" stroke=\"black\" points=\"665.667,-131.5 535.667,-131.5 535.667,-63.5 665.667,-63.5 665.667,-131.5\"/>\n",
       "<text text-anchor=\"start\" x=\"543.667\" y=\"-116.3\" font-family=\"Times,serif\" font-size=\"14.00\">ServiceName ≤ 25.5</text>\n",
       "<text text-anchor=\"start\" x=\"562.667\" y=\"-101.3\" font-family=\"Times,serif\" font-size=\"14.00\">mse = 77.026</text>\n",
       "<text text-anchor=\"start\" x=\"556.667\" y=\"-86.3\" font-family=\"Times,serif\" font-size=\"14.00\">samples = 4161</text>\n",
       "<text text-anchor=\"start\" x=\"562.667\" y=\"-71.3\" font-family=\"Times,serif\" font-size=\"14.00\">value = 7.147</text>\n",
       "</g>\n",
       "<!-- 8&#45;&gt;12 -->\n",
       "<g id=\"edge12\" class=\"edge\"><title>8&#45;&gt;12</title>\n",
       "<path fill=\"none\" stroke=\"black\" d=\"M411.909,-189.889C446.861,-172.69 490.236,-151.347 526.488,-133.509\"/>\n",
       "<polygon fill=\"black\" stroke=\"black\" points=\"528.114,-136.609 535.542,-129.054 525.024,-130.328 528.114,-136.609\"/>\n",
       "</g>\n",
       "<!-- 10 -->\n",
       "<g id=\"node11\" class=\"node\"><title>10</title>\n",
       "<polygon fill=\"#e58139\" stroke=\"black\" points=\"890.167,-266 791.167,-266 791.167,-213 890.167,-213 890.167,-266\"/>\n",
       "<text text-anchor=\"start\" x=\"802.667\" y=\"-250.8\" font-family=\"Times,serif\" font-size=\"14.00\">mse = 50.812</text>\n",
       "<text text-anchor=\"start\" x=\"800.167\" y=\"-235.8\" font-family=\"Times,serif\" font-size=\"14.00\">samples = 204</text>\n",
       "<text text-anchor=\"start\" x=\"799.167\" y=\"-220.8\" font-family=\"Times,serif\" font-size=\"14.00\">value = 52.469</text>\n",
       "</g>\n",
       "<!-- 9&#45;&gt;10 -->\n",
       "<g id=\"edge10\" class=\"edge\"><title>9&#45;&gt;10</title>\n",
       "<path fill=\"none\" stroke=\"black\" d=\"M683.24,-227.669C715.258,-230.091 751.302,-232.817 780.713,-235.041\"/>\n",
       "<polygon fill=\"black\" stroke=\"black\" points=\"780.587,-238.542 790.823,-235.806 781.115,-231.562 780.587,-238.542\"/>\n",
       "</g>\n",
       "<!-- 11 -->\n",
       "<g id=\"node12\" class=\"node\"><title>11</title>\n",
       "<polygon fill=\"#e58139\" fill-opacity=\"0.764706\" stroke=\"black\" points=\"890.167,-195 791.167,-195 791.167,-142 890.167,-142 890.167,-195\"/>\n",
       "<text text-anchor=\"start\" x=\"799.167\" y=\"-179.8\" font-family=\"Times,serif\" font-size=\"14.00\">mse = 140.039</text>\n",
       "<text text-anchor=\"start\" x=\"800.167\" y=\"-164.8\" font-family=\"Times,serif\" font-size=\"14.00\">samples = 826</text>\n",
       "<text text-anchor=\"start\" x=\"802.667\" y=\"-149.8\" font-family=\"Times,serif\" font-size=\"14.00\">value = 40.13</text>\n",
       "</g>\n",
       "<!-- 9&#45;&gt;11 -->\n",
       "<g id=\"edge11\" class=\"edge\"><title>9&#45;&gt;11</title>\n",
       "<path fill=\"none\" stroke=\"black\" d=\"M683.24,-203.335C715.258,-196.204 751.302,-188.178 780.713,-181.628\"/>\n",
       "<polygon fill=\"black\" stroke=\"black\" points=\"781.823,-184.967 790.823,-179.377 780.301,-178.134 781.823,-184.967\"/>\n",
       "</g>\n",
       "<!-- 13 -->\n",
       "<g id=\"node14\" class=\"node\"><title>13</title>\n",
       "<polygon fill=\"#e58139\" fill-opacity=\"0.082353\" stroke=\"black\" points=\"892.667,-124 788.667,-124 788.667,-71 892.667,-71 892.667,-124\"/>\n",
       "<text text-anchor=\"start\" x=\"802.667\" y=\"-108.8\" font-family=\"Times,serif\" font-size=\"14.00\">mse = 35.501</text>\n",
       "<text text-anchor=\"start\" x=\"796.667\" y=\"-93.8\" font-family=\"Times,serif\" font-size=\"14.00\">samples = 3109</text>\n",
       "<text text-anchor=\"start\" x=\"802.667\" y=\"-78.8\" font-family=\"Times,serif\" font-size=\"14.00\">value = 4.438</text>\n",
       "</g>\n",
       "<!-- 12&#45;&gt;13 -->\n",
       "<g id=\"edge13\" class=\"edge\"><title>12&#45;&gt;13</title>\n",
       "<path fill=\"none\" stroke=\"black\" d=\"M665.759,-97.5C700.696,-97.5 743.719,-97.5 778.231,-97.5\"/>\n",
       "<polygon fill=\"black\" stroke=\"black\" points=\"778.651,-101 788.651,-97.5 778.651,-94.0001 778.651,-101\"/>\n",
       "</g>\n",
       "<!-- 14 -->\n",
       "<g id=\"node15\" class=\"node\"><title>14</title>\n",
       "<polygon fill=\"#e58139\" fill-opacity=\"0.286275\" stroke=\"black\" points=\"892.667,-53 788.667,-53 788.667,-0 892.667,-0 892.667,-53\"/>\n",
       "<text text-anchor=\"start\" x=\"799.167\" y=\"-37.8\" font-family=\"Times,serif\" font-size=\"14.00\">mse = 113.967</text>\n",
       "<text text-anchor=\"start\" x=\"796.667\" y=\"-22.8\" font-family=\"Times,serif\" font-size=\"14.00\">samples = 1052</text>\n",
       "<text text-anchor=\"start\" x=\"799.167\" y=\"-7.8\" font-family=\"Times,serif\" font-size=\"14.00\">value = 15.152</text>\n",
       "</g>\n",
       "<!-- 12&#45;&gt;14 -->\n",
       "<g id=\"edge14\" class=\"edge\"><title>12&#45;&gt;14</title>\n",
       "<path fill=\"none\" stroke=\"black\" d=\"M665.759,-78.3799C700.846,-67.9128 744.09,-55.0125 778.677,-44.6943\"/>\n",
       "<polygon fill=\"black\" stroke=\"black\" points=\"780.069,-47.9317 788.651,-41.719 778.068,-41.2239 780.069,-47.9317\"/>\n",
       "</g>\n",
       "</g>\n",
       "</svg>\n"
      ],
      "text/plain": [
       "<graphviz.files.Source at 0x7fa626f8b2e8>"
      ]
     },
     "metadata": {},
     "output_type": "display_data"
    }
   ],
   "source": [
    "draw_tree(m.estimators_[0], df_trn, precision=3) "
   ]
  },
  {
   "cell_type": "code",
   "execution_count": 335,
   "metadata": {},
   "outputs": [
    {
     "name": "stdout",
     "output_type": "stream",
     "text": [
      "[array([0.18 , 0.02 , 0.02 , 0.025, 0.02 , 0.02 , 0.02 , 0.02 , 0.02 , 0.02 , 0.02 , 0.02 , 0.02 , 0.02 ,\n",
      "       0.02 , 0.02 , 0.02 , 0.02 , 0.02 , 0.02 , ..., 0.04 , 0.04 , 0.03 , 0.03 , 0.04 , 0.04 , 0.06 , 0.03 ,\n",
      "       0.04 , 0.04 , 0.03 , 0.03 , 0.03 , 0.04 , 0.08 , 0.03 , 0.03 , 0.05 , 0.04 , 0.03 ]), array([0.   , 0.   , 0.   , 0.   , 0.   , 0.   , 0.   , 0.   , 0.   , 0.   , 0.   , 0.   , 0.   , 0.   ,\n",
      "       0.   , 0.   , 0.   , 0.   , 0.   , 0.   , ..., 0.11 , 0.11 , 0.12 , 0.12 , 0.12 , 0.1  , 0.11 , 0.11 ,\n",
      "       0.12 , 0.12 , 0.11 , 0.125, 0.12 , 0.11 , 0.11 , 0.11 , 0.12 , 0.11 , 0.11 , 0.11 ]), 0.9582865341245537, -0.19336508715914635]\n"
     ]
    }
   ],
   "source": [
    "m = RandomForestRegressor(n_estimators=1, bootstrap=False, n_jobs=-1)\n",
    "m.fit(X_train, y_train)\n",
    "print_score(m)"
   ]
  },
  {
   "cell_type": "code",
   "execution_count": 336,
   "metadata": {},
   "outputs": [
    {
     "data": {
      "text/plain": [
       "(array([0.]), 0.0, 0.0)"
      ]
     },
     "execution_count": 336,
     "metadata": {},
     "output_type": "execute_result"
    }
   ],
   "source": [
    "preds = np.stack([t.predict(X_valid) for t in m.estimators_])\n",
    "preds[:,0], np.mean(preds[:,0]), y_valid[0]"
   ]
  },
  {
   "cell_type": "code",
   "execution_count": 337,
   "metadata": {},
   "outputs": [
    {
     "data": {
      "text/plain": [
       "(1, 12000)"
      ]
     },
     "execution_count": 337,
     "metadata": {},
     "output_type": "execute_result"
    }
   ],
   "source": [
    "preds.shape"
   ]
  },
  {
   "cell_type": "code",
   "execution_count": 338,
   "metadata": {},
   "outputs": [
    {
     "data": {
      "image/png": "[encoded data removed]",
      "text/plain": [
       "<Figure size 432x288 with 1 Axes>"
      ]
     },
     "metadata": {},
     "output_type": "display_data"
    }
   ],
   "source": [
    "plt.plot([metrics.r2_score(y_valid, np.mean(preds[:i+1], axis=0)) for i in range(10)]);"
   ]
  }
 ],
 "metadata": {
  "kernelspec": {
   "display_name": "Python [default]",
   "language": "python",
   "name": "python3"
  },
  "language_info": {
   "codemirror_mode": {
    "name": "ipython",
    "version": 3
   },
   "file_extension": ".py",
   "mimetype": "text/x-python",
   "name": "python",
   "nbconvert_exporter": "python",
   "pygments_lexer": "ipython3",
   "version": "3.6.4"
  }
 },
 "nbformat": 4,
 "nbformat_minor": 2
}
