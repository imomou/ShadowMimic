{
 "cells": [
  {
   "cell_type": "code",
   "execution_count": 65,
   "metadata": {},
   "outputs": [],
   "source": [
    "%matplotlib inline\n",
    "%reload_ext autoreload\n",
    "%autoreload 2"
   ]
  },
  {
   "cell_type": "code",
   "execution_count": 66,
   "metadata": {},
   "outputs": [],
   "source": [
    "from fastai.structured import *\n",
    "from fastai.column_data import *\n",
    "import tensorflow as tf\n",
    "\n",
    "import keras\n",
    "from keras import metrics\n",
    "from keras import regularizers\n",
    "from keras.models import Sequential\n",
    "from keras.layers import Dense, Dropout, Flatten, Activation\n",
    "from keras.layers import Conv2D, MaxPooling2D\n",
    "from keras.optimizers import Adam, RMSprop\n",
    "from keras.callbacks import TensorBoard, EarlyStopping, ModelCheckpoint\n",
    "from keras.utils import plot_model\n",
    "from keras.models import load_model\n",
    "from IPython.display import display\n",
    "\n",
    "from sklearn.ensemble import RandomForestRegressor, RandomForestClassifier\n",
    "from sklearn import metrics\n"
   ]
  },
  {
   "cell_type": "code",
   "execution_count": 67,
   "metadata": {},
   "outputs": [],
   "source": [
    "DATAPATH='/home/ubuntu/ShadowMimic/details1.csv'"
   ]
  },
  {
   "cell_type": "code",
   "execution_count": 74,
   "metadata": {},
   "outputs": [],
   "source": [
    "data = pd.read_csv(DATAPATH, delimiter=\",\")\n",
    "\n",
    "x = data[\"StartTime\"].values\n",
    "y = data[\"CPUAverage\"].values"
   ]
  },
  {
   "cell_type": "code",
   "execution_count": 75,
   "metadata": {},
   "outputs": [
    {
     "data": {
      "image/png": "[encoded data removed]",
      "text/plain": [
       "<Figure size 432x288 with 1 Axes>"
      ]
     },
     "metadata": {},
     "output_type": "display_data"
    }
   ],
   "source": [
    "plt.scatter(x,y)\n",
    "plt.show()"
   ]
  },
  {
   "cell_type": "code",
   "execution_count": 76,
   "metadata": {},
   "outputs": [],
   "source": [
    "def display_all(df):\n",
    "    with pd.option_context(\"display.max_rows\", 1000, \"display.max_columns\", 1000): \n",
    "        display(df)"
   ]
  },
  {
   "cell_type": "code",
   "execution_count": 77,
   "metadata": {},
   "outputs": [
    {
     "data": {
      "text/html": [
       "<div>\n",
       "<style scoped>\n",
       "    .dataframe tbody tr th:only-of-type {\n",
       "        vertical-align: middle;\n",
       "    }\n",
       "\n",
       "    .dataframe tbody tr th {\n",
       "        vertical-align: top;\n",
       "    }\n",
       "\n",
       "    .dataframe thead th {\n",
       "        text-align: right;\n",
       "    }\n",
       "</style>\n",
       "<table border=\"1\" class=\"dataframe\">\n",
       "  <thead>\n",
       "    <tr style=\"text-align: right;\">\n",
       "      <th></th>\n",
       "      <th>StartTime</th>\n",
       "      <th>ServiceName</th>\n",
       "      <th>AllocatedCPU</th>\n",
       "      <th>HealthyHosts</th>\n",
       "      <th>CPUAverage</th>\n",
       "    </tr>\n",
       "  </thead>\n",
       "  <tbody>\n",
       "    <tr>\n",
       "      <th>0</th>\n",
       "      <td>1535516700</td>\n",
       "      <td>ServiceName1</td>\n",
       "      <td>1000</td>\n",
       "      <td>1</td>\n",
       "      <td>0.023284</td>\n",
       "    </tr>\n",
       "    <tr>\n",
       "      <th>1</th>\n",
       "      <td>1535519880</td>\n",
       "      <td>ServiceName1</td>\n",
       "      <td>1000</td>\n",
       "      <td>1</td>\n",
       "      <td>0.023468</td>\n",
       "    </tr>\n",
       "    <tr>\n",
       "      <th>2</th>\n",
       "      <td>1535523060</td>\n",
       "      <td>ServiceName1</td>\n",
       "      <td>1000</td>\n",
       "      <td>1</td>\n",
       "      <td>0.024140</td>\n",
       "    </tr>\n",
       "    <tr>\n",
       "      <th>3</th>\n",
       "      <td>1535474220</td>\n",
       "      <td>ServiceName1</td>\n",
       "      <td>1000</td>\n",
       "      <td>1</td>\n",
       "      <td>0.019813</td>\n",
       "    </tr>\n",
       "    <tr>\n",
       "      <th>4</th>\n",
       "      <td>1535477400</td>\n",
       "      <td>ServiceName1</td>\n",
       "      <td>1000</td>\n",
       "      <td>1</td>\n",
       "      <td>0.024553</td>\n",
       "    </tr>\n",
       "  </tbody>\n",
       "</table>\n",
       "</div>"
      ],
      "text/plain": [
       "    StartTime   ServiceName  AllocatedCPU  HealthyHosts  CPUAverage\n",
       "0  1535516700  ServiceName1          1000             1    0.023284\n",
       "1  1535519880  ServiceName1          1000             1    0.023468\n",
       "2  1535523060  ServiceName1          1000             1    0.024140\n",
       "3  1535474220  ServiceName1          1000             1    0.019813\n",
       "4  1535477400  ServiceName1          1000             1    0.024553"
      ]
     },
     "metadata": {},
     "output_type": "display_data"
    }
   ],
   "source": [
    "display_all(data.head())"
   ]
  },
  {
   "cell_type": "code",
   "execution_count": 78,
   "metadata": {},
   "outputs": [
    {
     "data": {
      "text/html": [
       "<div>\n",
       "<style scoped>\n",
       "    .dataframe tbody tr th:only-of-type {\n",
       "        vertical-align: middle;\n",
       "    }\n",
       "\n",
       "    .dataframe tbody tr th {\n",
       "        vertical-align: top;\n",
       "    }\n",
       "\n",
       "    .dataframe thead th {\n",
       "        text-align: right;\n",
       "    }\n",
       "</style>\n",
       "<table border=\"1\" class=\"dataframe\">\n",
       "  <thead>\n",
       "    <tr style=\"text-align: right;\">\n",
       "      <th></th>\n",
       "      <th>StartTime</th>\n",
       "      <th>ServiceName</th>\n",
       "      <th>AllocatedCPU</th>\n",
       "      <th>HealthyHosts</th>\n",
       "      <th>CPUAverage</th>\n",
       "    </tr>\n",
       "  </thead>\n",
       "  <tbody>\n",
       "    <tr>\n",
       "      <th>38798</th>\n",
       "      <td>1535443200</td>\n",
       "      <td>ServiceName27</td>\n",
       "      <td>25</td>\n",
       "      <td>2</td>\n",
       "      <td>0.028192</td>\n",
       "    </tr>\n",
       "    <tr>\n",
       "      <th>38799</th>\n",
       "      <td>1535487720</td>\n",
       "      <td>ServiceName27</td>\n",
       "      <td>25</td>\n",
       "      <td>2</td>\n",
       "      <td>0.029508</td>\n",
       "    </tr>\n",
       "    <tr>\n",
       "      <th>38800</th>\n",
       "      <td>1535494080</td>\n",
       "      <td>ServiceName27</td>\n",
       "      <td>25</td>\n",
       "      <td>2</td>\n",
       "      <td>0.045539</td>\n",
       "    </tr>\n",
       "    <tr>\n",
       "      <th>38801</th>\n",
       "      <td>1535475000</td>\n",
       "      <td>ServiceName27</td>\n",
       "      <td>25</td>\n",
       "      <td>2</td>\n",
       "      <td>0.025074</td>\n",
       "    </tr>\n",
       "    <tr>\n",
       "      <th>38802</th>\n",
       "      <td>1535481360</td>\n",
       "      <td>ServiceName27</td>\n",
       "      <td>25</td>\n",
       "      <td>2</td>\n",
       "      <td>0.031373</td>\n",
       "    </tr>\n",
       "  </tbody>\n",
       "</table>\n",
       "</div>"
      ],
      "text/plain": [
       "        StartTime    ServiceName  AllocatedCPU  HealthyHosts  CPUAverage\n",
       "38798  1535443200  ServiceName27            25             2    0.028192\n",
       "38799  1535487720  ServiceName27            25             2    0.029508\n",
       "38800  1535494080  ServiceName27            25             2    0.045539\n",
       "38801  1535475000  ServiceName27            25             2    0.025074\n",
       "38802  1535481360  ServiceName27            25             2    0.031373"
      ]
     },
     "metadata": {},
     "output_type": "display_data"
    }
   ],
   "source": [
    "display_all(data.tail())"
   ]
  },
  {
   "cell_type": "code",
   "execution_count": 79,
   "metadata": {},
   "outputs": [
    {
     "data": {
      "text/html": [
       "<div>\n",
       "<style scoped>\n",
       "    .dataframe tbody tr th:only-of-type {\n",
       "        vertical-align: middle;\n",
       "    }\n",
       "\n",
       "    .dataframe tbody tr th {\n",
       "        vertical-align: top;\n",
       "    }\n",
       "\n",
       "    .dataframe thead th {\n",
       "        text-align: right;\n",
       "    }\n",
       "</style>\n",
       "<table border=\"1\" class=\"dataframe\">\n",
       "  <thead>\n",
       "    <tr style=\"text-align: right;\">\n",
       "      <th></th>\n",
       "      <th>count</th>\n",
       "      <th>unique</th>\n",
       "      <th>top</th>\n",
       "      <th>freq</th>\n",
       "      <th>mean</th>\n",
       "      <th>std</th>\n",
       "      <th>min</th>\n",
       "      <th>25%</th>\n",
       "      <th>50%</th>\n",
       "      <th>75%</th>\n",
       "      <th>max</th>\n",
       "    </tr>\n",
       "  </thead>\n",
       "  <tbody>\n",
       "    <tr>\n",
       "      <th>StartTime</th>\n",
       "      <td>38803</td>\n",
       "      <td>NaN</td>\n",
       "      <td>NaN</td>\n",
       "      <td>NaN</td>\n",
       "      <td>1.53548e+09</td>\n",
       "      <td>24941.3</td>\n",
       "      <td>1.53544e+09</td>\n",
       "      <td>1.53546e+09</td>\n",
       "      <td>1.53548e+09</td>\n",
       "      <td>1.5355e+09</td>\n",
       "      <td>1.53552e+09</td>\n",
       "    </tr>\n",
       "    <tr>\n",
       "      <th>ServiceName</th>\n",
       "      <td>38803</td>\n",
       "      <td>27</td>\n",
       "      <td>ServiceName22</td>\n",
       "      <td>1440</td>\n",
       "      <td>NaN</td>\n",
       "      <td>NaN</td>\n",
       "      <td>NaN</td>\n",
       "      <td>NaN</td>\n",
       "      <td>NaN</td>\n",
       "      <td>NaN</td>\n",
       "      <td>NaN</td>\n",
       "    </tr>\n",
       "    <tr>\n",
       "      <th>AllocatedCPU</th>\n",
       "      <td>38803</td>\n",
       "      <td>NaN</td>\n",
       "      <td>NaN</td>\n",
       "      <td>NaN</td>\n",
       "      <td>875.759</td>\n",
       "      <td>762.877</td>\n",
       "      <td>25</td>\n",
       "      <td>250</td>\n",
       "      <td>500</td>\n",
       "      <td>1500</td>\n",
       "      <td>3000</td>\n",
       "    </tr>\n",
       "    <tr>\n",
       "      <th>HealthyHosts</th>\n",
       "      <td>38803</td>\n",
       "      <td>NaN</td>\n",
       "      <td>NaN</td>\n",
       "      <td>NaN</td>\n",
       "      <td>1.45254</td>\n",
       "      <td>0.808461</td>\n",
       "      <td>0</td>\n",
       "      <td>1</td>\n",
       "      <td>2</td>\n",
       "      <td>2</td>\n",
       "      <td>11</td>\n",
       "    </tr>\n",
       "    <tr>\n",
       "      <th>CPUAverage</th>\n",
       "      <td>38803</td>\n",
       "      <td>NaN</td>\n",
       "      <td>NaN</td>\n",
       "      <td>NaN</td>\n",
       "      <td>3.41144</td>\n",
       "      <td>9.97454</td>\n",
       "      <td>0</td>\n",
       "      <td>0.0198304</td>\n",
       "      <td>0.0634927</td>\n",
       "      <td>0.822495</td>\n",
       "      <td>131.792</td>\n",
       "    </tr>\n",
       "  </tbody>\n",
       "</table>\n",
       "</div>"
      ],
      "text/plain": [
       "              count unique            top  freq         mean       std  \\\n",
       "StartTime     38803    NaN            NaN   NaN  1.53548e+09   24941.3   \n",
       "ServiceName   38803     27  ServiceName22  1440          NaN       NaN   \n",
       "AllocatedCPU  38803    NaN            NaN   NaN      875.759   762.877   \n",
       "HealthyHosts  38803    NaN            NaN   NaN      1.45254  0.808461   \n",
       "CPUAverage    38803    NaN            NaN   NaN      3.41144   9.97454   \n",
       "\n",
       "                      min          25%          50%         75%          max  \n",
       "StartTime     1.53544e+09  1.53546e+09  1.53548e+09  1.5355e+09  1.53552e+09  \n",
       "ServiceName           NaN          NaN          NaN         NaN          NaN  \n",
       "AllocatedCPU           25          250          500        1500         3000  \n",
       "HealthyHosts            0            1            2           2           11  \n",
       "CPUAverage              0    0.0198304    0.0634927    0.822495      131.792  "
      ]
     },
     "metadata": {},
     "output_type": "display_data"
    }
   ],
   "source": [
    "display_all(data.describe(include='all').T)"
   ]
  },
  {
   "cell_type": "code",
   "execution_count": 44,
   "metadata": {},
   "outputs": [],
   "source": [
    "#??RandomForestRegressor"
   ]
  },
  {
   "cell_type": "code",
   "execution_count": 45,
   "metadata": {},
   "outputs": [],
   "source": [
    "##??data.to_feather"
   ]
  },
  {
   "cell_type": "code",
   "execution_count": 80,
   "metadata": {},
   "outputs": [],
   "source": [
    "####temp####\n",
    "#data = pd.read_csv(DATAPATH, delimiter=\",\")\n",
    "\n",
    "#this is important\n",
    "train_cats(data)"
   ]
  },
  {
   "cell_type": "code",
   "execution_count": 81,
   "metadata": {},
   "outputs": [
    {
     "data": {
      "text/plain": [
       "Index(['ServiceName1', 'ServiceName10', 'ServiceName11', 'ServiceName12',\n",
       "       'ServiceName13', 'ServiceName14', 'ServiceName15', 'ServiceName16',\n",
       "       'ServiceName17', 'ServiceName18', 'ServiceName19', 'ServiceName2',\n",
       "       'ServiceName20', 'ServiceName21', 'ServiceName22', 'ServiceName23',\n",
       "       'ServiceName24', 'ServiceName25', 'ServiceName26', 'ServiceName27',\n",
       "       'ServiceName3', 'ServiceName4', 'ServiceName5', 'ServiceName6',\n",
       "       'ServiceName7', 'ServiceName8', 'ServiceName9'],\n",
       "      dtype='object')"
      ]
     },
     "execution_count": 81,
     "metadata": {},
     "output_type": "execute_result"
    }
   ],
   "source": [
    "data.ServiceName.cat.categories"
   ]
  },
  {
   "cell_type": "code",
   "execution_count": 82,
   "metadata": {},
   "outputs": [
    {
     "name": "stdout",
     "output_type": "stream",
     "text": [
      "StartTime       0\n",
      "ServiceName     0\n",
      "AllocatedCPU    0\n",
      "HealthyHosts    0\n",
      "CPUAverage      0\n",
      "dtype: int64\n"
     ]
    }
   ],
   "source": [
    "print(data.isnull().sum())"
   ]
  },
  {
   "cell_type": "code",
   "execution_count": 83,
   "metadata": {},
   "outputs": [],
   "source": [
    "#??os\n",
    "#??proc_df  \n",
    "#display_all(data.isnull().sum().sort_index()/len(data))"
   ]
  },
  {
   "cell_type": "code",
   "execution_count": 84,
   "metadata": {},
   "outputs": [],
   "source": [
    "os.makedirs('tmp', exist_ok=True)\n",
    "data.to_feather('tmp/sams')"
   ]
  },
  {
   "cell_type": "code",
   "execution_count": 85,
   "metadata": {},
   "outputs": [
    {
     "name": "stderr",
     "output_type": "stream",
     "text": [
      "/home/ubuntu/anaconda3/lib/python3.6/site-packages/pandas/io/feather_format.py:112: FutureWarning: `nthreads` argument is deprecated, pass `use_threads` instead\n",
      "  return feather.read_dataframe(path, nthreads=nthreads)\n"
     ]
    }
   ],
   "source": [
    "#??proc_df\n",
    "#shouldnt need to do this, but bah\n",
    "data = pd.read_feather('tmp/sams')\n",
    "#display_all(data)"
   ]
  },
  {
   "cell_type": "code",
   "execution_count": 86,
   "metadata": {},
   "outputs": [],
   "source": [
    "df, y, nas = proc_df(data, 'CPUAverage')"
   ]
  },
  {
   "cell_type": "code",
   "execution_count": 87,
   "metadata": {},
   "outputs": [
    {
     "data": {
      "text/plain": [
       "Index(['StartTime', 'ServiceName', 'AllocatedCPU', 'HealthyHosts'], dtype='object')"
      ]
     },
     "execution_count": 87,
     "metadata": {},
     "output_type": "execute_result"
    }
   ],
   "source": [
    "m = RandomForestRegressor(n_jobs=-1)\n",
    "m.fit(df,y)\n",
    "m.score(df,y)\n",
    "\n",
    "df.columns"
   ]
  },
  {
   "cell_type": "code",
   "execution_count": 88,
   "metadata": {},
   "outputs": [
    {
     "data": {
      "text/plain": [
       "((26803, 4), (26803,), (12000, 4))"
      ]
     },
     "execution_count": 88,
     "metadata": {},
     "output_type": "execute_result"
    }
   ],
   "source": [
    "def split_vals(a,n): return a[:n].copy(), a[n:].copy()\n",
    "\n",
    "#training sset\n",
    "n_valid = 12000  # same as Kaggle's test set size\n",
    "n_trn = len(df)-n_valid\n",
    "raw_train, raw_valid = split_vals(data, n_trn)\n",
    "X_train, X_valid = split_vals(df, n_trn)\n",
    "y_train, y_valid = split_vals(y, n_trn)\n",
    "\n",
    "X_train.shape, y_train.shape, X_valid.shape"
   ]
  },
  {
   "cell_type": "code",
   "execution_count": 89,
   "metadata": {},
   "outputs": [],
   "source": [
    "#def rmse(x,y): return math.sqrt(((x-y)**2).mean())\n",
    "\n",
    "#def print_score(m):\n",
    "#    res = [rmse(m.predict(X_train), y_train), rmse(m.predict(X_valid), y_valid),\n",
    "#                m.score(X_train, y_train), m.score(X_valid, y_valid)]\n",
    "#    if hasattr(m, 'oob_score_'): res.append(m.oob_score_)\n",
    "#    print(res)\n",
    "    \n",
    "def print_score(m):\n",
    "    res = [m.predict(X_train), m.predict(X_valid),\n",
    "                m.score(X_train, y_train), m.score(X_valid, y_valid)]\n",
    "    if hasattr(m, 'oob_score_'): res.append(m.oob_score_)\n",
    "    print(res)"
   ]
  },
  {
   "cell_type": "code",
   "execution_count": 90,
   "metadata": {},
   "outputs": [
    {
     "name": "stdout",
     "output_type": "stream",
     "text": [
      "CPU times: user 460 ms, sys: 0 ns, total: 460 ms\n",
      "Wall time: 210 ms\n",
      "[array([1.39432, 0.02671, 0.05957, 0.02169, 0.02454, 0.02256, 0.02631, 0.09395, 0.01939, 0.02422, 0.02543,\n",
      "       0.02392, 0.02217, 0.0225 , 0.02292, 0.02281, 0.02468, 0.02468, 0.0234 , 0.02172, ..., 0.03991,\n",
      "       0.02594, 0.03612, 0.03997, 0.02694, 0.05304, 0.10004, 0.10004, 0.05261, 0.04175, 0.05319, 0.10305,\n",
      "       0.02979, 0.0665 , 0.57159, 0.03799, 0.08422, 0.08578, 0.02658, 0.03317]), array([0.05106, 0.049  , 0.04798, 0.02491, 0.03722, 0.03258, 0.13731, 0.03833, 0.288  , 0.02419, 0.03804,\n",
      "       0.03156, 0.04349, 0.02202, 0.04355, 0.05933, 0.04855, 0.03041, 0.02117, 0.03903, ..., 0.07101,\n",
      "       0.05073, 0.05361, 0.072  , 0.06395, 0.05049, 0.05472, 0.05063, 0.052  , 0.11689, 0.04963, 0.04917,\n",
      "       0.05765, 0.05232, 0.05371, 0.05935, 0.05445, 0.12606, 0.05172, 0.05304]), 0.9476578081180006, -0.11169857433757047]\n"
     ]
    }
   ],
   "source": [
    "m = RandomForestRegressor(n_jobs=-1)\n",
    "%time m.fit(X_train, y_train)\n",
    "print_score(m)"
   ]
  },
  {
   "cell_type": "code",
   "execution_count": 91,
   "metadata": {},
   "outputs": [],
   "source": [
    "#take random samples\n",
    "df_trn, y_trn, nas = proc_df(data, 'CPUAverage', subset=30000, na_dict=nas)\n",
    "\n",
    "X_train, _ = split_vals(df_trn, 20000)\n",
    "y_train, _ = split_vals(y_trn, 20000)"
   ]
  },
  {
   "cell_type": "code",
   "execution_count": 92,
   "metadata": {},
   "outputs": [
    {
     "name": "stdout",
     "output_type": "stream",
     "text": [
      "CPU times: user 344 ms, sys: 0 ns, total: 344 ms\n",
      "Wall time: 110 ms\n",
      "[array([0.02643, 0.02268, 0.02464, 0.02728, 0.12179, 0.0237 , 0.02439, 0.02349, 0.02331, 0.02304, 0.02467,\n",
      "       0.02033, 0.02248, 0.04636, 0.02315, 0.02362, 0.02257, 0.02308, 0.02152, 0.0224 , ..., 2.53979,\n",
      "       0.81619, 1.62568, 0.67158, 1.52452, 1.19819, 1.28915, 1.26423, 1.93076, 1.38106, 1.80783, 1.8918 ,\n",
      "       1.46741, 0.89524, 1.47809, 1.8912 , 1.36724, 1.79161, 0.83613, 1.4282 ]), array([0.00467, 0.00572, 0.00619, 0.0054 , 0.00617, 0.00638, 0.00633, 0.00464, 0.00434, 0.00493, 0.00643,\n",
      "       0.00487, 0.00498, 0.005  , 0.0058 , 0.00597, 0.00491, 0.0057 , 0.00541, 0.00652, ..., 0.07537,\n",
      "       0.06605, 0.07286, 0.08495, 0.06724, 0.06719, 0.09276, 0.0641 , 0.07125, 0.08338, 0.06503, 0.06308,\n",
      "       0.07675, 0.0676 , 0.07067, 0.08447, 0.0711 , 0.13737, 0.07058, 0.07003]), 0.9503221027282116, -0.14469601330921744]\n"
     ]
    }
   ],
   "source": [
    "m = RandomForestRegressor(n_jobs=-1)\n",
    "%time m.fit(X_train, y_train)\n",
    "print_score(m)"
   ]
  },
  {
   "cell_type": "code",
   "execution_count": 93,
   "metadata": {},
   "outputs": [
    {
     "name": "stdout",
     "output_type": "stream",
     "text": [
      "[array([0.0292 , 0.0292 , 0.0292 , 0.0292 , 0.0292 , 0.0292 , 0.0292 , 0.0292 , 0.0292 , 0.0292 , 0.0292 ,\n",
      "       0.0292 , 0.0292 , 0.0292 , 0.0292 , 0.0292 , 0.0292 , 0.0292 , 0.0292 , 0.0292 , ..., 0.46504,\n",
      "       0.46504, 0.46504, 0.46504, 0.46504, 0.46504, 0.46504, 0.46504, 0.46504, 0.46504, 0.46504, 0.46504,\n",
      "       0.46504, 0.46504, 0.46504, 0.46504, 0.46504, 0.46504, 0.46504, 0.46504]), array([0.0292 , 0.0292 , 0.0292 , 0.0292 , 0.0292 , 0.0292 , 0.0292 , 0.0292 , 0.0292 , 0.0292 , 0.0292 ,\n",
      "       0.0292 , 0.0292 , 0.0292 , 0.0292 , 0.0292 , 0.0292 , 0.0292 , 0.0292 , 0.0292 , ..., 0.46504,\n",
      "       0.46504, 0.46504, 0.46504, 0.46504, 0.46504, 0.46504, 0.46504, 0.46504, 0.46504, 0.46504, 0.46504,\n",
      "       0.46504, 0.46504, 0.46504, 0.46504, 0.46504, 0.46504, 0.46504, 0.46504]), 0.7164799791154575, -0.05936028190619069]\n"
     ]
    }
   ],
   "source": [
    "m = RandomForestRegressor(n_estimators=1, max_depth=3, bootstrap=False, n_jobs=-1)\n",
    "m.fit(X_train, y_train)\n",
    "print_score(m)"
   ]
  },
  {
   "cell_type": "code",
   "execution_count": 94,
   "metadata": {},
   "outputs": [
    {
     "data": {
      "image/svg+xml": [
       "<?xml version=\"1.0\" encoding=\"UTF-8\" standalone=\"no\"?>\n",
       "<!DOCTYPE svg PUBLIC \"-//W3C//DTD SVG 1.1//EN\"\n",
       " \"http://www.w3.org/Graphics/SVG/1.1/DTD/svg11.dtd\">\n",
       "<!-- Generated by graphviz version 2.38.0 (20140413.2041)\n",
       " -->\n",
       "<!-- Title: Tree Pages: 1 -->\n",
       "<svg width=\"720pt\" height=\"434pt\"\n",
       " viewBox=\"0.00 0.00 720.00 434.49\" xmlns=\"http://www.w3.org/2000/svg\" xmlns:xlink=\"http://www.w3.org/1999/xlink\">\n",
       "<g id=\"graph0\" class=\"graph\" transform=\"scale(0.778659 0.778659) rotate(0) translate(4 554)\">\n",
       "<title>Tree</title>\n",
       "<polygon fill=\"white\" stroke=\"none\" points=\"-4,4 -4,-554 920.667,-554 920.667,4 -4,4\"/>\n",
       "<!-- 0 -->\n",
       "<g id=\"node1\" class=\"node\"><title>0</title>\n",
       "<polygon fill=\"#e58139\" fill-opacity=\"0.109804\" stroke=\"black\" points=\"180.167,-308.5 31.1667,-308.5 31.1667,-240.5 180.167,-240.5 180.167,-308.5\"/>\n",
       "<text text-anchor=\"start\" x=\"39.1667\" y=\"-293.3\" font-family=\"Times,serif\" font-size=\"14.00\">AllocatedCPU ≤ 1750.0</text>\n",
       "<text text-anchor=\"start\" x=\"70.6667\" y=\"-278.3\" font-family=\"Times,serif\" font-size=\"14.00\">mse = 135.4</text>\n",
       "<text text-anchor=\"start\" x=\"58.6667\" y=\"-263.3\" font-family=\"Times,serif\" font-size=\"14.00\">samples = 20000</text>\n",
       "<text text-anchor=\"start\" x=\"67.6667\" y=\"-248.3\" font-family=\"Times,serif\" font-size=\"14.00\">value = 4.515</text>\n",
       "</g>\n",
       "<!-- 1 -->\n",
       "<g id=\"node2\" class=\"node\"><title>1</title>\n",
       "<polygon fill=\"#e58139\" fill-opacity=\"0.011765\" stroke=\"black\" points=\"409.167,-361.5 286.167,-361.5 286.167,-293.5 409.167,-293.5 409.167,-361.5\"/>\n",
       "<text text-anchor=\"start\" x=\"294.167\" y=\"-346.3\" font-family=\"Times,serif\" font-size=\"14.00\">HealthyHosts ≤ 0.5</text>\n",
       "<text text-anchor=\"start\" x=\"309.667\" y=\"-331.3\" font-family=\"Times,serif\" font-size=\"14.00\">mse = 11.083</text>\n",
       "<text text-anchor=\"start\" x=\"300.667\" y=\"-316.3\" font-family=\"Times,serif\" font-size=\"14.00\">samples = 14418</text>\n",
       "<text text-anchor=\"start\" x=\"309.667\" y=\"-301.3\" font-family=\"Times,serif\" font-size=\"14.00\">value = 0.479</text>\n",
       "</g>\n",
       "<!-- 0&#45;&gt;1 -->\n",
       "<g id=\"edge1\" class=\"edge\"><title>0&#45;&gt;1</title>\n",
       "<path fill=\"none\" stroke=\"black\" d=\"M180.306,-290.762C210.76,-297.487 245.921,-305.252 276.051,-311.906\"/>\n",
       "<polygon fill=\"black\" stroke=\"black\" points=\"275.543,-315.378 286.062,-314.117 277.052,-308.542 275.543,-315.378\"/>\n",
       "<text text-anchor=\"middle\" x=\"264.988\" y=\"-323.866\" font-family=\"Times,serif\" font-size=\"14.00\">True</text>\n",
       "</g>\n",
       "<!-- 8 -->\n",
       "<g id=\"node9\" class=\"node\"><title>8</title>\n",
       "<polygon fill=\"#e58139\" fill-opacity=\"0.360784\" stroke=\"black\" points=\"409.167,-255.5 286.167,-255.5 286.167,-187.5 409.167,-187.5 409.167,-255.5\"/>\n",
       "<text text-anchor=\"start\" x=\"294.167\" y=\"-240.3\" font-family=\"Times,serif\" font-size=\"14.00\">ServiceName ≤ 6.0</text>\n",
       "<text text-anchor=\"start\" x=\"306.167\" y=\"-225.3\" font-family=\"Times,serif\" font-size=\"14.00\">mse = 305.781</text>\n",
       "<text text-anchor=\"start\" x=\"303.667\" y=\"-210.3\" font-family=\"Times,serif\" font-size=\"14.00\">samples = 5582</text>\n",
       "<text text-anchor=\"start\" x=\"306.167\" y=\"-195.3\" font-family=\"Times,serif\" font-size=\"14.00\">value = 14.939</text>\n",
       "</g>\n",
       "<!-- 0&#45;&gt;8 -->\n",
       "<g id=\"edge8\" class=\"edge\"><title>0&#45;&gt;8</title>\n",
       "<path fill=\"none\" stroke=\"black\" d=\"M180.306,-258.238C210.76,-251.513 245.921,-243.748 276.051,-237.094\"/>\n",
       "<polygon fill=\"black\" stroke=\"black\" points=\"277.052,-240.458 286.062,-234.883 275.543,-233.622 277.052,-240.458\"/>\n",
       "<text text-anchor=\"middle\" x=\"264.988\" y=\"-217.734\" font-family=\"Times,serif\" font-size=\"14.00\">False</text>\n",
       "</g>\n",
       "<!-- 2 -->\n",
       "<g id=\"node3\" class=\"node\"><title>2</title>\n",
       "<polygon fill=\"#e58139\" fill-opacity=\"0.066667\" stroke=\"black\" points=\"685.167,-486.5 520.167,-486.5 520.167,-418.5 685.167,-418.5 685.167,-486.5\"/>\n",
       "<text text-anchor=\"start\" x=\"528.167\" y=\"-471.3\" font-family=\"Times,serif\" font-size=\"14.00\">StartTime ≤ 1535513088.0</text>\n",
       "<text text-anchor=\"start\" x=\"561.167\" y=\"-456.3\" font-family=\"Times,serif\" font-size=\"14.00\">mse = 106.731</text>\n",
       "<text text-anchor=\"start\" x=\"558.667\" y=\"-441.3\" font-family=\"Times,serif\" font-size=\"14.00\">samples = 1098</text>\n",
       "<text text-anchor=\"start\" x=\"564.667\" y=\"-426.3\" font-family=\"Times,serif\" font-size=\"14.00\">value = 2.857</text>\n",
       "</g>\n",
       "<!-- 1&#45;&gt;2 -->\n",
       "<g id=\"edge2\" class=\"edge\"><title>1&#45;&gt;2</title>\n",
       "<path fill=\"none\" stroke=\"black\" d=\"M409.266,-357.441C443.497,-374.353 486.66,-395.678 523.425,-413.843\"/>\n",
       "<polygon fill=\"black\" stroke=\"black\" points=\"522.109,-417.097 532.625,-418.388 525.21,-410.821 522.109,-417.097\"/>\n",
       "</g>\n",
       "<!-- 5 -->\n",
       "<g id=\"node6\" class=\"node\"><title>5</title>\n",
       "<polygon fill=\"#e58139\" fill-opacity=\"0.007843\" stroke=\"black\" points=\"664.167,-361.5 541.167,-361.5 541.167,-293.5 664.167,-293.5 664.167,-361.5\"/>\n",
       "<text text-anchor=\"start\" x=\"549.167\" y=\"-346.3\" font-family=\"Times,serif\" font-size=\"14.00\">HealthyHosts ≤ 1.5</text>\n",
       "<text text-anchor=\"start\" x=\"567.667\" y=\"-331.3\" font-family=\"Times,serif\" font-size=\"14.00\">mse = 2.694</text>\n",
       "<text text-anchor=\"start\" x=\"555.667\" y=\"-316.3\" font-family=\"Times,serif\" font-size=\"14.00\">samples = 13320</text>\n",
       "<text text-anchor=\"start\" x=\"564.667\" y=\"-301.3\" font-family=\"Times,serif\" font-size=\"14.00\">value = 0.283</text>\n",
       "</g>\n",
       "<!-- 1&#45;&gt;5 -->\n",
       "<g id=\"edge5\" class=\"edge\"><title>1&#45;&gt;5</title>\n",
       "<path fill=\"none\" stroke=\"black\" d=\"M409.266,-327.5C445.902,-327.5 492.768,-327.5 531.073,-327.5\"/>\n",
       "<polygon fill=\"black\" stroke=\"black\" points=\"531.123,-331 541.123,-327.5 531.123,-324 531.123,-331\"/>\n",
       "</g>\n",
       "<!-- 3 -->\n",
       "<g id=\"node4\" class=\"node\"><title>3</title>\n",
       "<polygon fill=\"#e58139\" fill-opacity=\"0.058824\" stroke=\"black\" points=\"892.167,-550 795.167,-550 795.167,-497 892.167,-497 892.167,-550\"/>\n",
       "<text text-anchor=\"start\" x=\"805.667\" y=\"-534.8\" font-family=\"Times,serif\" font-size=\"14.00\">mse = 88.717</text>\n",
       "<text text-anchor=\"start\" x=\"803.167\" y=\"-519.8\" font-family=\"Times,serif\" font-size=\"14.00\">samples = 966</text>\n",
       "<text text-anchor=\"start\" x=\"805.667\" y=\"-504.8\" font-family=\"Times,serif\" font-size=\"14.00\">value = 2.506</text>\n",
       "</g>\n",
       "<!-- 2&#45;&gt;3 -->\n",
       "<g id=\"edge3\" class=\"edge\"><title>2&#45;&gt;3</title>\n",
       "<path fill=\"none\" stroke=\"black\" d=\"M685.248,-476.736C718.052,-486.48 755.108,-497.489 785.023,-506.376\"/>\n",
       "<polygon fill=\"black\" stroke=\"black\" points=\"784.295,-509.811 794.878,-509.303 786.289,-503.101 784.295,-509.811\"/>\n",
       "</g>\n",
       "<!-- 4 -->\n",
       "<g id=\"node5\" class=\"node\"><title>4</title>\n",
       "<polygon fill=\"#e58139\" fill-opacity=\"0.129412\" stroke=\"black\" points=\"893.167,-479 794.167,-479 794.167,-426 893.167,-426 893.167,-479\"/>\n",
       "<text text-anchor=\"start\" x=\"802.167\" y=\"-463.8\" font-family=\"Times,serif\" font-size=\"14.00\">mse = 231.027</text>\n",
       "<text text-anchor=\"start\" x=\"803.167\" y=\"-448.8\" font-family=\"Times,serif\" font-size=\"14.00\">samples = 132</text>\n",
       "<text text-anchor=\"start\" x=\"805.667\" y=\"-433.8\" font-family=\"Times,serif\" font-size=\"14.00\">value = 5.432</text>\n",
       "</g>\n",
       "<!-- 2&#45;&gt;4 -->\n",
       "<g id=\"edge4\" class=\"edge\"><title>2&#45;&gt;4</title>\n",
       "<path fill=\"none\" stroke=\"black\" d=\"M685.248,-452.5C717.546,-452.5 753.966,-452.5 783.635,-452.5\"/>\n",
       "<polygon fill=\"black\" stroke=\"black\" points=\"783.83,-456 793.83,-452.5 783.83,-449 783.83,-456\"/>\n",
       "</g>\n",
       "<!-- 6 -->\n",
       "<g id=\"node7\" class=\"node\"><title>6</title>\n",
       "<polygon fill=\"none\" stroke=\"black\" points=\"895.667,-408 791.667,-408 791.667,-355 895.667,-355 895.667,-408\"/>\n",
       "<text text-anchor=\"start\" x=\"808.667\" y=\"-392.8\" font-family=\"Times,serif\" font-size=\"14.00\">mse = 0.042</text>\n",
       "<text text-anchor=\"start\" x=\"799.667\" y=\"-377.8\" font-family=\"Times,serif\" font-size=\"14.00\">samples = 5556</text>\n",
       "<text text-anchor=\"start\" x=\"805.667\" y=\"-362.8\" font-family=\"Times,serif\" font-size=\"14.00\">value = 0.029</text>\n",
       "</g>\n",
       "<!-- 5&#45;&gt;6 -->\n",
       "<g id=\"edge6\" class=\"edge\"><title>5&#45;&gt;6</title>\n",
       "<path fill=\"none\" stroke=\"black\" d=\"M664.285,-341.196C700.186,-349.308 745.538,-359.555 781.528,-367.686\"/>\n",
       "<polygon fill=\"black\" stroke=\"black\" points=\"780.89,-371.13 791.416,-369.92 782.433,-364.302 780.89,-371.13\"/>\n",
       "</g>\n",
       "<!-- 7 -->\n",
       "<g id=\"node8\" class=\"node\"><title>7</title>\n",
       "<polygon fill=\"#e58139\" fill-opacity=\"0.011765\" stroke=\"black\" points=\"895.667,-337 791.667,-337 791.667,-284 895.667,-284 895.667,-337\"/>\n",
       "<text text-anchor=\"start\" x=\"808.667\" y=\"-321.8\" font-family=\"Times,serif\" font-size=\"14.00\">mse = 4.513</text>\n",
       "<text text-anchor=\"start\" x=\"799.667\" y=\"-306.8\" font-family=\"Times,serif\" font-size=\"14.00\">samples = 7764</text>\n",
       "<text text-anchor=\"start\" x=\"805.667\" y=\"-291.8\" font-family=\"Times,serif\" font-size=\"14.00\">value = 0.465</text>\n",
       "</g>\n",
       "<!-- 5&#45;&gt;7 -->\n",
       "<g id=\"edge7\" class=\"edge\"><title>5&#45;&gt;7</title>\n",
       "<path fill=\"none\" stroke=\"black\" d=\"M664.285,-323.188C700.032,-320.646 745.15,-317.436 781.067,-314.882\"/>\n",
       "<polygon fill=\"black\" stroke=\"black\" points=\"781.689,-318.346 791.416,-314.145 781.193,-311.364 781.689,-318.346\"/>\n",
       "</g>\n",
       "<!-- 9 -->\n",
       "<g id=\"node10\" class=\"node\"><title>9</title>\n",
       "<polygon fill=\"#e58139\" fill-opacity=\"0.101961\" stroke=\"black\" points=\"664.167,-255.5 541.167,-255.5 541.167,-187.5 664.167,-187.5 664.167,-255.5\"/>\n",
       "<text text-anchor=\"start\" x=\"549.167\" y=\"-240.3\" font-family=\"Times,serif\" font-size=\"14.00\">ServiceName ≤ 4.5</text>\n",
       "<text text-anchor=\"start\" x=\"564.667\" y=\"-225.3\" font-family=\"Times,serif\" font-size=\"14.00\">mse = 67.355</text>\n",
       "<text text-anchor=\"start\" x=\"558.667\" y=\"-210.3\" font-family=\"Times,serif\" font-size=\"14.00\">samples = 2218</text>\n",
       "<text text-anchor=\"start\" x=\"564.667\" y=\"-195.3\" font-family=\"Times,serif\" font-size=\"14.00\">value = 4.275</text>\n",
       "</g>\n",
       "<!-- 8&#45;&gt;9 -->\n",
       "<g id=\"edge9\" class=\"edge\"><title>8&#45;&gt;9</title>\n",
       "<path fill=\"none\" stroke=\"black\" d=\"M409.266,-221.5C445.902,-221.5 492.768,-221.5 531.073,-221.5\"/>\n",
       "<polygon fill=\"black\" stroke=\"black\" points=\"531.123,-225 541.123,-221.5 531.123,-218 531.123,-225\"/>\n",
       "</g>\n",
       "<!-- 12 -->\n",
       "<g id=\"node13\" class=\"node\"><title>12</title>\n",
       "<polygon fill=\"#e58139\" fill-opacity=\"0.529412\" stroke=\"black\" points=\"664.167,-131.5 541.167,-131.5 541.167,-63.5 664.167,-63.5 664.167,-131.5\"/>\n",
       "<text text-anchor=\"start\" x=\"549.167\" y=\"-116.3\" font-family=\"Times,serif\" font-size=\"14.00\">ServiceName ≤ 7.5</text>\n",
       "<text text-anchor=\"start\" x=\"561.167\" y=\"-101.3\" font-family=\"Times,serif\" font-size=\"14.00\">mse = 338.567</text>\n",
       "<text text-anchor=\"start\" x=\"558.667\" y=\"-86.3\" font-family=\"Times,serif\" font-size=\"14.00\">samples = 3364</text>\n",
       "<text text-anchor=\"start\" x=\"564.667\" y=\"-71.3\" font-family=\"Times,serif\" font-size=\"14.00\">value = 21.97</text>\n",
       "</g>\n",
       "<!-- 8&#45;&gt;12 -->\n",
       "<g id=\"edge12\" class=\"edge\"><title>8&#45;&gt;12</title>\n",
       "<path fill=\"none\" stroke=\"black\" d=\"M409.266,-191.799C446.214,-173.69 493.566,-150.482 532.049,-131.621\"/>\n",
       "<polygon fill=\"black\" stroke=\"black\" points=\"533.684,-134.717 541.123,-127.173 530.604,-128.432 533.684,-134.717\"/>\n",
       "</g>\n",
       "<!-- 10 -->\n",
       "<g id=\"node11\" class=\"node\"><title>10</title>\n",
       "<polygon fill=\"#e58139\" fill-opacity=\"0.180392\" stroke=\"black\" points=\"895.667,-266 791.667,-266 791.667,-213 895.667,-213 895.667,-266\"/>\n",
       "<text text-anchor=\"start\" x=\"802.167\" y=\"-250.8\" font-family=\"Times,serif\" font-size=\"14.00\">mse = 110.353</text>\n",
       "<text text-anchor=\"start\" x=\"799.667\" y=\"-235.8\" font-family=\"Times,serif\" font-size=\"14.00\">samples = 1116</text>\n",
       "<text text-anchor=\"start\" x=\"805.667\" y=\"-220.8\" font-family=\"Times,serif\" font-size=\"14.00\">value = 7.559</text>\n",
       "</g>\n",
       "<!-- 9&#45;&gt;10 -->\n",
       "<g id=\"edge10\" class=\"edge\"><title>9&#45;&gt;10</title>\n",
       "<path fill=\"none\" stroke=\"black\" d=\"M664.285,-226.065C700.032,-228.758 745.15,-232.156 781.067,-234.861\"/>\n",
       "<polygon fill=\"black\" stroke=\"black\" points=\"781.181,-238.379 791.416,-235.64 781.707,-231.399 781.181,-238.379\"/>\n",
       "</g>\n",
       "<!-- 11 -->\n",
       "<g id=\"node12\" class=\"node\"><title>11</title>\n",
       "<polygon fill=\"#e58139\" fill-opacity=\"0.023529\" stroke=\"black\" points=\"895.667,-195 791.667,-195 791.667,-142 895.667,-142 895.667,-195\"/>\n",
       "<text text-anchor=\"start\" x=\"812.167\" y=\"-179.8\" font-family=\"Times,serif\" font-size=\"14.00\">mse = 1.83</text>\n",
       "<text text-anchor=\"start\" x=\"799.667\" y=\"-164.8\" font-family=\"Times,serif\" font-size=\"14.00\">samples = 1102</text>\n",
       "<text text-anchor=\"start\" x=\"805.667\" y=\"-149.8\" font-family=\"Times,serif\" font-size=\"14.00\">value = 0.949</text>\n",
       "</g>\n",
       "<!-- 9&#45;&gt;11 -->\n",
       "<g id=\"edge11\" class=\"edge\"><title>9&#45;&gt;11</title>\n",
       "<path fill=\"none\" stroke=\"black\" d=\"M664.285,-208.057C700.186,-200.096 745.538,-190.039 781.528,-182.058\"/>\n",
       "<polygon fill=\"black\" stroke=\"black\" points=\"782.411,-185.447 791.416,-179.865 780.895,-178.613 782.411,-185.447\"/>\n",
       "</g>\n",
       "<!-- 13 -->\n",
       "<g id=\"node14\" class=\"node\"><title>13</title>\n",
       "<polygon fill=\"#e58139\" stroke=\"black\" points=\"895.667,-124 791.667,-124 791.667,-71 895.667,-71 895.667,-124\"/>\n",
       "<text text-anchor=\"start\" x=\"802.167\" y=\"-108.8\" font-family=\"Times,serif\" font-size=\"14.00\">mse = 147.932</text>\n",
       "<text text-anchor=\"start\" x=\"799.667\" y=\"-93.8\" font-family=\"Times,serif\" font-size=\"14.00\">samples = 1124</text>\n",
       "<text text-anchor=\"start\" x=\"805.667\" y=\"-78.8\" font-family=\"Times,serif\" font-size=\"14.00\">value = 41.56</text>\n",
       "</g>\n",
       "<!-- 12&#45;&gt;13 -->\n",
       "<g id=\"edge13\" class=\"edge\"><title>12&#45;&gt;13</title>\n",
       "<path fill=\"none\" stroke=\"black\" d=\"M664.285,-97.5C700.032,-97.5 745.15,-97.5 781.067,-97.5\"/>\n",
       "<polygon fill=\"black\" stroke=\"black\" points=\"781.416,-101 791.416,-97.5 781.416,-94.0001 781.416,-101\"/>\n",
       "</g>\n",
       "<!-- 14 -->\n",
       "<g id=\"node15\" class=\"node\"><title>14</title>\n",
       "<polygon fill=\"#e58139\" fill-opacity=\"0.290196\" stroke=\"black\" points=\"895.667,-53 791.667,-53 791.667,-0 895.667,-0 895.667,-53\"/>\n",
       "<text text-anchor=\"start\" x=\"802.167\" y=\"-37.8\" font-family=\"Times,serif\" font-size=\"14.00\">mse = 145.025</text>\n",
       "<text text-anchor=\"start\" x=\"799.667\" y=\"-22.8\" font-family=\"Times,serif\" font-size=\"14.00\">samples = 2240</text>\n",
       "<text text-anchor=\"start\" x=\"805.667\" y=\"-7.8\" font-family=\"Times,serif\" font-size=\"14.00\">value = 12.14</text>\n",
       "</g>\n",
       "<!-- 12&#45;&gt;14 -->\n",
       "<g id=\"edge14\" class=\"edge\"><title>12&#45;&gt;14</title>\n",
       "<path fill=\"none\" stroke=\"black\" d=\"M664.285,-79.4919C700.186,-68.827 745.538,-55.3542 781.528,-44.6624\"/>\n",
       "<polygon fill=\"black\" stroke=\"black\" points=\"782.827,-47.928 791.416,-41.7252 780.833,-41.2178 782.827,-47.928\"/>\n",
       "</g>\n",
       "</g>\n",
       "</svg>\n"
      ],
      "text/plain": [
       "<graphviz.files.Source at 0x7fd58f6c6f28>"
      ]
     },
     "metadata": {},
     "output_type": "display_data"
    }
   ],
   "source": [
    "draw_tree(m.estimators_[0], df_trn, precision=3) "
   ]
  },
  {
   "cell_type": "code",
   "execution_count": 95,
   "metadata": {},
   "outputs": [
    {
     "name": "stdout",
     "output_type": "stream",
     "text": [
      "[array([0.02695, 0.02172, 0.02467, 0.02717, 0.02109, 0.02414, 0.02457, 0.02401, 0.02293, 0.02372, 0.02463,\n",
      "       0.01941, 0.02276, 0.02378, 0.02349, 0.02352, 0.02245, 0.02277, 0.02158, 0.02287, ..., 2.68052,\n",
      "       0.62459, 1.562  , 0.69804, 1.5326 , 1.03744, 1.09714, 1.1261 , 1.72896, 1.48019, 1.84193, 1.91674,\n",
      "       1.19814, 0.86261, 1.39138, 1.55226, 1.41041, 1.7812 , 0.84498, 1.47392]), array([0.00463, 0.00568, 0.00643, 0.00574, 0.00606, 0.00788, 0.00662, 0.00466, 0.00436, 0.00491, 0.00641,\n",
      "       0.00487, 0.00508, 0.00469, 0.006  , 0.00622, 0.00493, 0.00608, 0.00546, 0.00614, ..., 0.12235,\n",
      "       0.11267, 0.11783, 0.16303, 0.11263, 0.1093 , 0.11642, 0.11184, 0.11728, 0.12924, 0.10831, 0.10846,\n",
      "       0.12028, 0.12076, 0.12212, 0.11908, 0.12211, 0.11968, 0.12388, 0.12348]), 0.962404319712215, -0.769307521744359]\n"
     ]
    }
   ],
   "source": [
    "m = RandomForestRegressor(n_estimators=1, bootstrap=False, n_jobs=-1)\n",
    "m.fit(X_train, y_train)\n",
    "print_score(m)"
   ]
  },
  {
   "cell_type": "code",
   "execution_count": 96,
   "metadata": {},
   "outputs": [
    {
     "data": {
      "text/plain": [
       "(array([0.00463]), 0.004629362, 0.07064106120000001)"
      ]
     },
     "execution_count": 96,
     "metadata": {},
     "output_type": "execute_result"
    }
   ],
   "source": [
    "preds = np.stack([t.predict(X_valid) for t in m.estimators_])\n",
    "preds[:,0], np.mean(preds[:,0]), y_valid[0]"
   ]
  },
  {
   "cell_type": "code",
   "execution_count": 97,
   "metadata": {},
   "outputs": [
    {
     "data": {
      "text/plain": [
       "(1, 12000)"
      ]
     },
     "execution_count": 97,
     "metadata": {},
     "output_type": "execute_result"
    }
   ],
   "source": [
    "preds.shape"
   ]
  },
  {
   "cell_type": "code",
   "execution_count": 98,
   "metadata": {},
   "outputs": [
    {
     "data": {
      "image/png": "[encoded data removed]",
      "text/plain": [
       "<Figure size 432x288 with 1 Axes>"
      ]
     },
     "metadata": {},
     "output_type": "display_data"
    }
   ],
   "source": [
    "plt.plot([metrics.r2_score(y_valid, np.mean(preds[:i+1], axis=0)) for i in range(10)]);"
   ]
  }
 ],
 "metadata": {
  "kernelspec": {
   "display_name": "Python [default]",
   "language": "python",
   "name": "python3"
  },
  "language_info": {
   "codemirror_mode": {
    "name": "ipython",
    "version": 3
   },
   "file_extension": ".py",
   "mimetype": "text/x-python",
   "name": "python",
   "nbconvert_exporter": "python",
   "pygments_lexer": "ipython3",
   "version": "3.6.4"
  }
 },
 "nbformat": 4,
 "nbformat_minor": 2
}
